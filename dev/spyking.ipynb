{
 "cells": [
  {
   "cell_type": "code",
   "execution_count": 1,
   "metadata": {
    "collapsed": true,
    "ExecuteTime": {
     "end_time": "2024-01-11T17:48:23.720147Z",
     "start_time": "2024-01-11T17:48:23.693580Z"
    }
   },
   "outputs": [
    {
     "name": "stdout",
     "output_type": "stream",
     "text": [
      "hello\n"
     ]
    }
   ],
   "source": [
    "print('hello')"
   ]
  },
  {
   "cell_type": "code",
   "execution_count": 2,
   "outputs": [
    {
     "name": "stdout",
     "output_type": "stream",
     "text": [
      "Note: you may need to restart the kernel to use updated packages.\n"
     ]
    }
   ],
   "source": [
    "pip install pandas"
   ],
   "metadata": {
    "collapsed": false,
    "ExecuteTime": {
     "end_time": "2024-01-15T04:10:26.205559Z",
     "start_time": "2024-01-15T04:10:25.157261Z"
    }
   }
  },
  {
   "cell_type": "code",
   "execution_count": 3,
   "outputs": [],
   "source": [
    "import requests\n",
    "from typing import Optional\n",
    "import ssl\n",
    "import socket\n",
    "from cryptography import x509\n",
    "from cryptography.hazmat.backends import default_backend\n",
    "from datetime import datetime\n",
    "from typing import Optional, Dict, Union\n",
    "\n",
    "from DomainScanner import DomainScanner"
   ],
   "metadata": {
    "collapsed": false,
    "ExecuteTime": {
     "end_time": "2024-01-15T04:11:02.030003Z",
     "start_time": "2024-01-15T04:11:02.027091Z"
    }
   }
  },
  {
   "cell_type": "code",
   "execution_count": 2,
   "outputs": [],
   "source": [
    "domain = ['vc.ru']\n",
    "scan = DomainScanner(domain=domain)"
   ],
   "metadata": {
    "collapsed": false,
    "ExecuteTime": {
     "end_time": "2024-01-11T20:10:19.449094Z",
     "start_time": "2024-01-11T20:10:19.440520Z"
    }
   }
  },
  {
   "cell_type": "code",
   "execution_count": 3,
   "outputs": [
    {
     "name": "stdout",
     "output_type": "stream",
     "text": [
      "\n",
      "   ___ _             _      ____                 _   _____\n",
      "  / __\\ | ___   __ _| | __ /___ \\_   _  ___  ___| |_|___ / _ __\n",
      " / /  | |/ _ \\ / _` | |/ ///  / / | | |/ _ \\/ __| __| |_ \\| '__|\n",
      "/ /___| | (_) | (_| |   </ \\_/ /| |_| |  __/\\__ \\ |_ ___) | |\n",
      "\\____/|_|\\___/ \\__,_|_|\\_\\___,_\\ \\__,_|\\___||___/\\__|____/|_|\n",
      "Uncover the true IP address of websites safeguarded by Cloudflare & ohers.\n",
      "\n",
      "\n",
      "[+] Version      : 1.0.4\n",
      "[+] Created By   : Spyboy\n",
      " └➤ Twitter      : https://spyboy.in/twitter\n",
      " └➤ Discord      : https://spyboy.in/Discord\n",
      " └➤ Website      : https://spyboy.in/\n",
      " └➤ Blog         : https://spyboy.blog/\n",
      " └➤ Github       : https://github.com/spyboy-productions/CloakQuest3r\n",
      "\n",
      "Cloudflare detected!\n",
      "\n",
      "Target Website: vc.ru\n",
      "Visible IP Address: 172.67.151.169\n",
      "\n",
      "\n",
      "[+] Scanning for subdomains.\n",
      "\n",
      "Starting threads...\n",
      "Subdomain Found └➤: https://go.vc.ru\n",
      "\n",
      " └➤ Total Subdomains Scanned: 781\n",
      " └➤ Total Subdomains Found: 1\n",
      " └➤ Time taken: 5.03 seconds\n",
      "\n",
      "[+] Real IP Address of go.vc.ru: 52.2.56.64\n",
      "   [+] SSL Certificate Information:\n",
      "      └➤ Common Name: go.vc.ru\n",
      "      └➤ Issuer: R3\n",
      "      └➤ Validity Start: 2024-01-01 23:06:59\n",
      "      └➤ Validity End: 2024-03-31 23:06:58\n",
      "\n",
      "Task Complete!!\n"
     ]
    }
   ],
   "source": [
    "df = scan.run_scan()"
   ],
   "metadata": {
    "collapsed": false,
    "ExecuteTime": {
     "end_time": "2024-01-11T20:10:26.509529Z",
     "start_time": "2024-01-11T20:10:20.104810Z"
    }
   }
  },
  {
   "cell_type": "code",
   "execution_count": 4,
   "outputs": [
    {
     "data": {
      "text/plain": "  Domain Subdomains                                           SSL_Info  \\\n0  vc.ru         []  [{'Common Name': 'go.vc.ru', 'Issuer': 'R3', '...   \n\n                    Real_IP Historical_IPs  \n0  [(go.vc.ru, 52.2.56.64)]             []  ",
      "text/html": "<div>\n<style scoped>\n    .dataframe tbody tr th:only-of-type {\n        vertical-align: middle;\n    }\n\n    .dataframe tbody tr th {\n        vertical-align: top;\n    }\n\n    .dataframe thead th {\n        text-align: right;\n    }\n</style>\n<table border=\"1\" class=\"dataframe\">\n  <thead>\n    <tr style=\"text-align: right;\">\n      <th></th>\n      <th>Domain</th>\n      <th>Subdomains</th>\n      <th>SSL_Info</th>\n      <th>Real_IP</th>\n      <th>Historical_IPs</th>\n    </tr>\n  </thead>\n  <tbody>\n    <tr>\n      <th>0</th>\n      <td>vc.ru</td>\n      <td>[]</td>\n      <td>[{'Common Name': 'go.vc.ru', 'Issuer': 'R3', '...</td>\n      <td>[(go.vc.ru, 52.2.56.64)]</td>\n      <td>[]</td>\n    </tr>\n  </tbody>\n</table>\n</div>"
     },
     "execution_count": 4,
     "metadata": {},
     "output_type": "execute_result"
    }
   ],
   "source": [
    "df"
   ],
   "metadata": {
    "collapsed": false,
    "ExecuteTime": {
     "end_time": "2024-01-11T20:10:26.525065Z",
     "start_time": "2024-01-11T20:10:26.508659Z"
    }
   }
  },
  {
   "cell_type": "code",
   "execution_count": 12,
   "outputs": [],
   "source": [
    "#strategies\n",
    "#use dig and nslookup - Failure\n",
    "# dig = 'dig +short vc.ru'\n",
    "#use tools, sublister, amass, enum4linux\n",
    "#use google dorks like so 'site:vc.ru' - kinda failure\n",
    "#attempt to use certificate transparancy logs - Success"
   ],
   "metadata": {
    "collapsed": false,
    "ExecuteTime": {
     "end_time": "2024-01-11T18:11:44.272137Z",
     "start_time": "2024-01-11T18:11:44.269773Z"
    }
   }
  },
  {
   "cell_type": "markdown",
   "source": [
    "crt.sh is a web service that provides information about SSL/TLS certificates. It is operated by the Certificate Transparency project, which was initiated to improve the security of the SSL/TLS ecosystem. Certificate Transparency (CT) is a system that logs, monitors, and makes publicly accessible all certificates issued by Certificate Authorities (CAs)."
   ],
   "metadata": {
    "collapsed": false
   }
  },
  {
   "cell_type": "code",
   "execution_count": null,
   "outputs": [],
   "source": [
    "test2 = 'drivemotors.ru'"
   ],
   "metadata": {
    "collapsed": false
   }
  },
  {
   "cell_type": "markdown",
   "source": [],
   "metadata": {
    "collapsed": false
   }
  },
  {
   "cell_type": "markdown",
   "source": [
    "drivemotors.ru\n",
    "new.drivemotors.ru\n",
    "www.drivemotors.ru\n"
   ],
   "metadata": {
    "collapsed": false
   }
  },
  {
   "cell_type": "markdown",
   "source": [
    "curl -s \"https://crt.sh/?q=%ntdtv.ru%&output=json\" | jq -r '.[].name_value' | sed 's/\\*\\.//g' | sort -u\n",
    "\n",
    "ntdtv.ru\n",
    "Results:\n",
    "\n",
    "media3.ntdtv.ru\n",
    "ntdtv.ru\n",
    "support.ntdtv.ru\n",
    "team.ntdtv.ru\n"
   ],
   "metadata": {
    "collapsed": false
   }
  },
  {
   "cell_type": "markdown",
   "source": [
    "Google Dorks works okay, returns values I didn't get from the cert logs\n",
    "2Fvc.ru\n",
    "3Avc.ru\n"
   ],
   "metadata": {
    "collapsed": false
   }
  },
  {
   "cell_type": "markdown",
   "source": [
    "Amass works but is not great, returns a lot of garbage, Sublister returns no information"
   ],
   "metadata": {
    "collapsed": false
   }
  },
  {
   "cell_type": "markdown",
   "source": [
    "Dig and NSLookup return no information"
   ],
   "metadata": {
    "collapsed": false
   }
  },
  {
   "cell_type": "markdown",
   "source": [
    "Shell Command in order to access Cert Transparency Logs and Expose Sub Domains\n",
    "\n",
    "curl -s \"https://crt.sh/?q=%vc.ru%&output=json\" | jq -r '.[].name_value' | sed 's/\\*\\.//g' | sort -u\n",
    "\n",
    "Returns the following subdomains\n",
    "amp.vc.ru\n",
    "api.vc.ru\n",
    "budu.vc.ru\n",
    "go.vc.ru\n",
    "hostmaster@vc.ru\n",
    "node.vc.ru\n",
    "push.vc.ru\n",
    "s.vc.ru\n",
    "sber-rss.vc.ru\n",
    "t.vc.ru\n",
    "touchbank.vc.ru\n",
    "vc.ru\n",
    "ws-backend-1.vc.ru\n",
    "ws-backend-2.vc.ru\n",
    "ws-backend-3.vc.ru\n",
    "ws-backend.vc.ru\n",
    "ws-sio.vc.ru\n",
    "ws.vc.ru\n",
    "www.budu.vc.ru\n",
    "www.vc.ru\n"
   ],
   "metadata": {
    "collapsed": false
   }
  },
  {
   "cell_type": "markdown",
   "source": [
    "people who go to this website, also go to this website - build this out\n",
    "you can send a list of domains to an agent 'go to these websites, tell me what they're about, what would you say about these websites' LLM models?"
   ],
   "metadata": {
    "collapsed": false
   }
  },
  {
   "cell_type": "code",
   "execution_count": null,
   "outputs": [],
   "source": [],
   "metadata": {
    "collapsed": false
   }
  }
 ],
 "metadata": {
  "kernelspec": {
   "display_name": "Python 3",
   "language": "python",
   "name": "python3"
  },
  "language_info": {
   "codemirror_mode": {
    "name": "ipython",
    "version": 2
   },
   "file_extension": ".py",
   "mimetype": "text/x-python",
   "name": "python",
   "nbconvert_exporter": "python",
   "pygments_lexer": "ipython2",
   "version": "2.7.6"
  }
 },
 "nbformat": 4,
 "nbformat_minor": 0
}
