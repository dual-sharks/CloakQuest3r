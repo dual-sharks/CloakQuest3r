{
 "cells": [
  {
   "cell_type": "code",
   "execution_count": 1,
   "metadata": {
    "collapsed": true,
    "ExecuteTime": {
     "end_time": "2024-01-15T04:27:09.011313Z",
     "start_time": "2024-01-15T04:27:09.004979Z"
    }
   },
   "outputs": [
    {
     "name": "stdout",
     "output_type": "stream",
     "text": [
      "hello\n"
     ]
    }
   ],
   "source": [
    "print('hello')"
   ]
  },
  {
   "cell_type": "code",
   "execution_count": 2,
   "outputs": [
    {
     "name": "stdout",
     "output_type": "stream",
     "text": [
      "Note: you may need to restart the kernel to use updated packages.\n"
     ]
    }
   ],
   "source": [
    "pip -q install pandas"
   ],
   "metadata": {
    "collapsed": false,
    "ExecuteTime": {
     "end_time": "2024-01-15T04:27:12.700690Z",
     "start_time": "2024-01-15T04:27:11.747795Z"
    }
   }
  },
  {
   "cell_type": "code",
   "execution_count": 4,
   "outputs": [],
   "source": [
    "import requests\n",
    "from typing import Optional\n",
    "import ssl\n",
    "import socket\n",
    "from cryptography import x509\n",
    "from cryptography.hazmat.backends import default_backend\n",
    "from datetime import datetime\n",
    "from typing import Optional, Dict, Union\n",
    "import warnings\n",
    "from urllib3.exceptions import InsecureRequestWarning\n",
    "\n",
    "# Suppress only the InsecureRequestWarning from urllib3 needed for your case\n",
    "warnings.filterwarnings(\"ignore\", category=InsecureRequestWarning)\n",
    "\n",
    "from DomainScanner import DomainScanner\n"
   ],
   "metadata": {
    "collapsed": false,
    "ExecuteTime": {
     "end_time": "2024-01-15T04:27:42.532592Z",
     "start_time": "2024-01-15T04:27:42.529181Z"
    }
   }
  },
  {
   "cell_type": "code",
   "execution_count": 5,
   "outputs": [],
   "source": [
    "domain = ['vc.ru']\n",
    "scan = DomainScanner(domain=domain)"
   ],
   "metadata": {
    "collapsed": false,
    "ExecuteTime": {
     "end_time": "2024-01-15T04:27:44.278275Z",
     "start_time": "2024-01-15T04:27:44.274176Z"
    }
   }
  },
  {
   "cell_type": "code",
   "execution_count": 6,
   "outputs": [
    {
     "name": "stdout",
     "output_type": "stream",
     "text": [
      "\n",
      "   ___ _             _      ____                 _   _____\n",
      "  / __\\ | ___   __ _| | __ /___ \\_   _  ___  ___| |_|___ / _ __\n",
      " / /  | |/ _ \\ / _` | |/ ///  / / | | |/ _ \\/ __| __| |_ \\| '__|\n",
      "/ /___| | (_) | (_| |   </ \\_/ /| |_| |  __/\\__ \\ |_ ___) | |\n",
      "\\____/|_|\\___/ \\__,_|_|\\_\\___,_\\ \\__,_|\\___||___/\\__|____/|_|\n",
      "Uncover the true IP address of websites safeguarded by Cloudflare & ohers.\n",
      "\n",
      "\n",
      "[+] Version      : 1.0.4\n",
      "[+] Created By   : Spyboy\n",
      " └➤ Twitter      : https://spyboy.in/twitter\n",
      " └➤ Discord      : https://spyboy.in/Discord\n",
      " └➤ Website      : https://spyboy.in/\n",
      " └➤ Blog         : https://spyboy.blog/\n",
      " └➤ Github       : https://github.com/spyboy-productions/CloakQuest3r\n",
      "\n",
      "Cloudflare detected!\n",
      "\n",
      "Target Website: vc.ru\n",
      "Visible IP Address: 104.21.40.127\n",
      "\n",
      "\n",
      "[+] Scanning for subdomains.\n",
      "\n",
      "Starting threads...\n",
      "Subdomain Found └➤: https://go.vc.ru\n",
      "\n",
      " └➤ Total Subdomains Scanned: 781\n",
      " └➤ Total Subdomains Found: 1\n",
      " └➤ Time taken: 1.98 seconds\n",
      "\n",
      "[+] Real IP Address of go.vc.ru: 52.2.56.64\n",
      "   [+] SSL Certificate Information:\n",
      "      └➤ Common Name: go.vc.ru\n",
      "      └➤ Issuer: R3\n",
      "      └➤ Validity Start: 2024-01-01 23:06:59\n",
      "      └➤ Validity End: 2024-03-31 23:06:58\n",
      "\n",
      "Task Complete!!\n"
     ]
    }
   ],
   "source": [
    "df = scan.run_scan()"
   ],
   "metadata": {
    "collapsed": false,
    "ExecuteTime": {
     "end_time": "2024-01-15T04:27:48.917220Z",
     "start_time": "2024-01-15T04:27:45.421928Z"
    }
   }
  },
  {
   "cell_type": "code",
   "execution_count": 7,
   "outputs": [
    {
     "data": {
      "text/plain": "  Domain Subdomains                                           SSL_Info  \\\n0  vc.ru         []  [{'Common Name': 'go.vc.ru', 'Issuer': 'R3', '...   \n\n                    Real_IP Historical_IPs  \n0  [(go.vc.ru, 52.2.56.64)]             []  ",
      "text/html": "<div>\n<style scoped>\n    .dataframe tbody tr th:only-of-type {\n        vertical-align: middle;\n    }\n\n    .dataframe tbody tr th {\n        vertical-align: top;\n    }\n\n    .dataframe thead th {\n        text-align: right;\n    }\n</style>\n<table border=\"1\" class=\"dataframe\">\n  <thead>\n    <tr style=\"text-align: right;\">\n      <th></th>\n      <th>Domain</th>\n      <th>Subdomains</th>\n      <th>SSL_Info</th>\n      <th>Real_IP</th>\n      <th>Historical_IPs</th>\n    </tr>\n  </thead>\n  <tbody>\n    <tr>\n      <th>0</th>\n      <td>vc.ru</td>\n      <td>[]</td>\n      <td>[{'Common Name': 'go.vc.ru', 'Issuer': 'R3', '...</td>\n      <td>[(go.vc.ru, 52.2.56.64)]</td>\n      <td>[]</td>\n    </tr>\n  </tbody>\n</table>\n</div>"
     },
     "execution_count": 7,
     "metadata": {},
     "output_type": "execute_result"
    }
   ],
   "source": [
    "df"
   ],
   "metadata": {
    "collapsed": false,
    "ExecuteTime": {
     "end_time": "2024-01-15T04:27:50.081758Z",
     "start_time": "2024-01-15T04:27:50.027884Z"
    }
   }
  },
  {
   "cell_type": "markdown",
   "source": [],
   "metadata": {
    "collapsed": false
   }
  }
 ],
 "metadata": {
  "kernelspec": {
   "display_name": "Python 3",
   "language": "python",
   "name": "python3"
  },
  "language_info": {
   "codemirror_mode": {
    "name": "ipython",
    "version": 2
   },
   "file_extension": ".py",
   "mimetype": "text/x-python",
   "name": "python",
   "nbconvert_exporter": "python",
   "pygments_lexer": "ipython2",
   "version": "2.7.6"
  }
 },
 "nbformat": 4,
 "nbformat_minor": 0
}
