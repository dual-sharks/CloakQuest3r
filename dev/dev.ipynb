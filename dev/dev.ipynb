{
 "cells": [
  {
   "cell_type": "code",
   "execution_count": 5,
   "outputs": [],
   "source": [
    "import warnings\n",
    "from urllib3.exceptions import InsecureRequestWarning\n",
    "warnings.filterwarnings(\"ignore\", category=InsecureRequestWarning)\n",
    "from HeaderScanner import HeaderScanner\n",
    "from SubDomainScanner import SubDomainScanner\n",
    "from ViewDNSScanner import ViewDNSScanner"
   ],
   "metadata": {
    "collapsed": false,
    "ExecuteTime": {
     "end_time": "2024-01-15T22:57:24.284009Z",
     "start_time": "2024-01-15T22:57:24.282243Z"
    }
   }
  },
  {
   "cell_type": "code",
   "execution_count": 2,
   "outputs": [],
   "source": [
    "# System Flow\n",
    "# 1. HewaderScanner - SUCCESS\n",
    "# 2. SubDomainScanner\n",
    "# 3. ViewDNSScanner\n",
    "# 4. SecurityTrailsScanner"
   ],
   "metadata": {
    "collapsed": false,
    "ExecuteTime": {
     "end_time": "2024-01-15T22:36:33.609853Z",
     "start_time": "2024-01-15T22:36:33.605686Z"
    }
   }
  },
  {
   "cell_type": "code",
   "execution_count": 3,
   "outputs": [],
   "source": [
    "import requests\n",
    "from bs4 import BeautifulSoup\n",
    "from colorama import Fore, Back, Style\n",
    "from config import *\n",
    "from enums.url_headers import *\n",
    "\n",
    "class ViewDNSScanner:\n",
    "    def __init__(self, domain):\n",
    "        self.domain = domain\n",
    "\n",
    "    def get_html_soup(self, url, headers):\n",
    "        try:\n",
    "            response = requests.get(url, headers=headers)\n",
    "            html = response.text\n",
    "            soup = BeautifulSoup(html, 'html.parser')\n",
    "            return soup\n",
    "        except:\n",
    "            None\n",
    "\n",
    "    def ip_address_row_parser(row):\n",
    "        columns = row.find_all('td')\n",
    "        ip_address = columns[0].text.strip()\n",
    "        location = columns[1].text.strip()\n",
    "        owner = columns[2].text.strip()\n",
    "        last_seen = columns[3].text.strip()\n",
    "        print(f\"\\n{R} [+] {C}IP Address: {R}{ip_address}{W}\")\n",
    "        print(f\"{Y}  \\u2514\\u27A4 {C}Location: {G}{location}{W}\")\n",
    "        print(f\"{Y}  \\u2514\\u27A4 {C}Owner: {G}{owner}{W}\")\n",
    "        print(f\"{Y}  \\u2514\\u27A4 {C}Last Seen: {G}{last_seen}{W}\")\n",
    "\n",
    "    def get_domain_historical_ip_address(self):\n",
    "        try:\n",
    "            headers = ViewDNS.VIEWDNS_HEADERS\n",
    "            print(headers)\n",
    "            viewdns_instance = ViewDNS()\n",
    "            viewdns_instance.set_domain(self.domain)\n",
    "            url = ViewDNS.get_url()\n",
    "            print('url', url)\n",
    "            #url = ViewDNS.VIEWDNS_URL\n",
    "\n",
    "            soup = self.get_html_soup(url, headers)\n",
    "            table = soup.find('table', {'border': '1'})\n",
    "            if table:\n",
    "                rows = table.find_all('tr')[2:]\n",
    "                print(f\"\\n{Fore.GREEN}[+] {Fore.YELLOW}Historical IP Address Info from {C}Viewdns{Y} for {Fore.GREEN}{self.domain}:{W}\")\n",
    "                for row in rows:\n",
    "                    self.ip_address_row_parser(row)\n",
    "            else:\n",
    "                print(f\"{Fore.RED}Error extracting Historical IP Address information from ViewDNS{Fore.RESET}\")\n",
    "        except Exception as e:\n",
    "            print(f\"{Fore.RED}Exception: {e}{Fore.RESET}\")\n",
    "\n",
    "    def run_scan(self):\n",
    "        self.get_domain_historical_ip_address()"
   ],
   "metadata": {
    "collapsed": false,
    "ExecuteTime": {
     "end_time": "2024-01-15T22:36:33.979440Z",
     "start_time": "2024-01-15T22:36:33.973374Z"
    }
   }
  },
  {
   "cell_type": "code",
   "execution_count": 4,
   "outputs": [
    {
     "name": "stdout",
     "output_type": "stream",
     "text": [
      "\u001B[31mException: type object 'ViewDNS' has no attribute 'VIEWDNS_HEADERS'\u001B[39m\n"
     ]
    }
   ],
   "source": [
    "test = ViewDNSScanner('ntdtv.ru')\n",
    "test.run_scan()"
   ],
   "metadata": {
    "collapsed": false,
    "ExecuteTime": {
     "end_time": "2024-01-15T22:36:34.687581Z",
     "start_time": "2024-01-15T22:36:34.680919Z"
    }
   }
  },
  {
   "cell_type": "code",
   "execution_count": 3,
   "outputs": [],
   "source": [
    "class CloakQuestr:\n",
    "    def __init__(self, domain):\n",
    "        self.domain = domain\n",
    "\n",
    "    def scan_headers(self):\n",
    "        header_scanner = HeaderScanner(self.domain)\n",
    "        webserver = header_scanner.run_scan()\n",
    "        print(webserver)\n",
    "\n",
    "    def scan_dns(self):\n",
    "        dns_scanner = ViewDNSScanner(self.domain)\n",
    "        dns_scanner.run_scan()"
   ],
   "metadata": {
    "collapsed": false,
    "ExecuteTime": {
     "end_time": "2024-01-15T22:27:48.856706Z",
     "start_time": "2024-01-15T22:27:48.848767Z"
    }
   }
  },
  {
   "cell_type": "code",
   "execution_count": 4,
   "outputs": [
    {
     "name": "stdout",
     "output_type": "stream",
     "text": [
      "Cloudflare detected!\n",
      "cloudflare\n"
     ]
    }
   ],
   "source": [
    "test = CloakQuestr('ntdtv.ru')\n",
    "test.scan_headers()\n",
    "test.scan_dns()"
   ],
   "metadata": {
    "collapsed": false,
    "ExecuteTime": {
     "end_time": "2024-01-15T22:27:49.815095Z",
     "start_time": "2024-01-15T22:27:49.330319Z"
    }
   }
  },
  {
   "cell_type": "code",
   "execution_count": 4,
   "outputs": [
    {
     "name": "stdout",
     "output_type": "stream",
     "text": [
      "\u001B[33m[+] \u001B[36mReal IP Address of \u001B[32mmedia3.ntdtv.ru:\u001B[31m 104.21.233.176\n",
      "\u001B[31m   [+] \u001B[36mSSL Certificate Information:\n",
      "\u001B[31m      └➤ \u001B[36mCommon Name:\u001B[0m media3.ntdtv.ru\n",
      "\u001B[31m      └➤ \u001B[36mIssuer:\u001B[0m R3\n",
      "\u001B[31m      └➤ \u001B[36mValidity Start:\u001B[0m 2023-12-10 20:15:07\n",
      "\u001B[31m      └➤ \u001B[36mValidity End:\u001B[0m 2024-03-09 20:15:06\n",
      "\u001B[33m[+] \u001B[36mReal IP Address of \u001B[32mntdtv.ru:\u001B[31m 104.21.233.176\n",
      "\u001B[31m   [+] \u001B[36mSSL Certificate Information:\n",
      "\u001B[31m      └➤ \u001B[36mCommon Name:\u001B[0m ntdtv.ru\n",
      "\u001B[31m      └➤ \u001B[36mIssuer:\u001B[0m GTS CA 1P5\n",
      "\u001B[31m      └➤ \u001B[36mValidity Start:\u001B[0m 2024-01-15 14:31:04\n",
      "\u001B[31m      └➤ \u001B[36mValidity End:\u001B[0m 2024-04-14 14:31:03\n",
      "\u001B[33m[+] \u001B[36mReal IP Address of \u001B[32msupport.ntdtv.ru:\u001B[31m 104.21.233.176\n",
      "\u001B[31m   [+] \u001B[36mSSL Certificate Information:\n",
      "\u001B[31m      └➤ \u001B[36mCommon Name:\u001B[0m team.ntdtv.ru\n",
      "\u001B[31m      └➤ \u001B[36mIssuer:\u001B[0m R3\n",
      "\u001B[31m      └➤ \u001B[36mValidity Start:\u001B[0m 2023-11-22 06:10:03\n",
      "\u001B[31m      └➤ \u001B[36mValidity End:\u001B[0m 2024-02-20 06:10:02\n",
      "\u001B[33m[+] \u001B[36mReal IP Address of \u001B[32mteam.ntdtv.ru:\u001B[31m 104.21.233.176\n",
      "\u001B[31m   [+] \u001B[36mSSL Certificate Information:\n",
      "\u001B[31m      └➤ \u001B[36mCommon Name:\u001B[0m team.ntdtv.ru\n",
      "\u001B[31m      └➤ \u001B[36mIssuer:\u001B[0m R3\n",
      "\u001B[31m      └➤ \u001B[36mValidity Start:\u001B[0m 2023-11-22 06:10:03\n",
      "\u001B[31m      └➤ \u001B[36mValidity End:\u001B[0m 2024-02-20 06:10:02\n"
     ]
    }
   ],
   "source": [
    "test = SubDomainScanner('ntdtv.ru')\n",
    "test.run_scan()"
   ],
   "metadata": {
    "collapsed": false,
    "ExecuteTime": {
     "end_time": "2024-01-15T22:13:38.739600Z",
     "start_time": "2024-01-15T22:13:36.699579Z"
    }
   }
  },
  {
   "cell_type": "code",
   "execution_count": null,
   "outputs": [],
   "source": [],
   "metadata": {
    "collapsed": false
   }
  }
 ],
 "metadata": {
  "kernelspec": {
   "display_name": "Python 3",
   "language": "python",
   "name": "python3"
  },
  "language_info": {
   "codemirror_mode": {
    "name": "ipython",
    "version": 2
   },
   "file_extension": ".py",
   "mimetype": "text/x-python",
   "name": "python",
   "nbconvert_exporter": "python",
   "pygments_lexer": "ipython2",
   "version": "2.7.6"
  }
 },
 "nbformat": 4,
 "nbformat_minor": 0
}
