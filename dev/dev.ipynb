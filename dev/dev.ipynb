{
 "cells": [
  {
   "cell_type": "code",
   "execution_count": 14,
   "outputs": [],
   "source": [
    "import warnings\n",
    "from urllib3.exceptions import InsecureRequestWarning\n",
    "warnings.filterwarnings(\"ignore\", category=InsecureRequestWarning)\n",
    "from HeaderScanner import HeaderScanner\n",
    "from SubDomainScanner import SubDomainScanner\n",
    "from ViewDNSScanner import ViewDNSScanner"
   ],
   "metadata": {
    "collapsed": false,
    "ExecuteTime": {
     "end_time": "2024-01-16T04:02:36.015252Z",
     "start_time": "2024-01-16T04:02:35.993759Z"
    }
   }
  },
  {
   "cell_type": "code",
   "execution_count": 7,
   "outputs": [
    {
     "name": "stdout",
     "output_type": "stream",
     "text": [
      "Note: you may need to restart the kernel to use updated packages.\n"
     ]
    }
   ],
   "source": [
    "# System Flow\n",
    "# 1. HewaderScanner - SUCCESS\n",
    "# 2. SubDomainScanner\n",
    "# 3. ViewDNSScanner\n",
    "# 4. SecurityTrailsScanner"
   ],
   "metadata": {
    "collapsed": false,
    "ExecuteTime": {
     "end_time": "2024-01-16T03:39:05.769568Z",
     "start_time": "2024-01-16T03:39:04.787272Z"
    }
   }
  },
  {
   "cell_type": "code",
   "execution_count": 13,
   "outputs": [
    {
     "name": "stdout",
     "output_type": "stream",
     "text": [
      "Rotated IP 165.22.36.164:10001 failed (HTTPSConnectionPool(host='viewdns.info', port=443): Read timed out. (read timeout=5))\n",
      "Rotated IP 117.250.3.58:8080 failed (HTTPSConnectionPool(host='viewdns.info', port=443): Read timed out. (read timeout=5))\n",
      "Rotated IP 43.128.2.177:8080 failed (HTTPSConnectionPool(host='viewdns.info', port=443): Read timed out. (read timeout=5))\n",
      "Rotated IP 65.21.35.155:1080 failed (HTTPSConnectionPool(host='viewdns.info', port=443): Max retries exceeded with url: /iphistory/?domain=vc.ru (Caused by ProxyError('Unable to connect to proxy', NewConnectionError('<urllib3.connection.HTTPSConnection object at 0x157cd6e80>: Failed to establish a new connection: [Errno 61] Connection refused'))))\n",
      "Rotated IP 64.225.4.17:10005 failed (HTTPSConnectionPool(host='viewdns.info', port=443): Read timed out. (read timeout=5))\n",
      "Rotated IP 64.225.8.179:10002 failed (HTTPSConnectionPool(host='viewdns.info', port=443): Read timed out. (read timeout=5))\n",
      "Rotated IP 142.93.72.28:10006 failed (HTTPSConnectionPool(host='viewdns.info', port=443): Read timed out. (read timeout=5))\n",
      "Rotated IP 64.225.8.142:10004 failed (HTTPSConnectionPool(host='viewdns.info', port=443): Read timed out. (read timeout=5))\n",
      "Rotated IP 138.197.16.249:10008 failed (HTTPSConnectionPool(host='viewdns.info', port=443): Read timed out. (read timeout=5))\n",
      "Rotated IP 72.10.160.90:29129 failed (HTTPSConnectionPool(host='viewdns.info', port=443): Max retries exceeded with url: /iphistory/?domain=vc.ru (Caused by ProxyError('Unable to connect to proxy', NewConnectionError('<urllib3.connection.HTTPSConnection object at 0x157cc0c70>: Failed to establish a new connection: [Errno 61] Connection refused'))))\n"
     ]
    }
   ],
   "source": [
    "import requests\n",
    "from bs4 import BeautifulSoup\n",
    "from colorama import Fore, Back, Style\n",
    "from config import *\n",
    "from enums.url_headers import *\n",
    "\n",
    "class ViewDNSScanner:\n",
    "    def __init__(self, domain):\n",
    "        self.domain = domain\n",
    "\n",
    "    def get_html_soup(self, url, headers):\n",
    "        try:\n",
    "            response = requests.get(url, headers=headers)\n",
    "            html = response.text\n",
    "            soup = BeautifulSoup(html, 'html.parser')\n",
    "            return soup\n",
    "        except:\n",
    "            None\n",
    "\n",
    "    def ip_address_row_parser(row):\n",
    "        columns = row.find_all('td')\n",
    "        ip_address = columns[0].text.strip()\n",
    "        location = columns[1].text.strip()\n",
    "        owner = columns[2].text.strip()\n",
    "        last_seen = columns[3].text.strip()\n",
    "        print(f\"\\n{R} [+] {C}IP Address: {R}{ip_address}{W}\")\n",
    "        print(f\"{Y}  \\u2514\\u27A4 {C}Location: {G}{location}{W}\")\n",
    "        print(f\"{Y}  \\u2514\\u27A4 {C}Owner: {G}{owner}{W}\")\n",
    "        print(f\"{Y}  \\u2514\\u27A4 {C}Last Seen: {G}{last_seen}{W}\")\n",
    "\n",
    "    def get_domain_historical_ip_address(self):\n",
    "        try:\n",
    "            headers = ViewDNS.VIEWDNS_HEADERS\n",
    "            print(headers)\n",
    "            viewdns_instance = ViewDNS()\n",
    "            viewdns_instance.set_domain(self.domain)\n",
    "            url = ViewDNS.get_url()\n",
    "            print('url', url)\n",
    "            #url = ViewDNS.VIEWDNS_URL\n",
    "\n",
    "            soup = self.get_html_soup(url, headers)\n",
    "            table = soup.find('table', {'border': '1'})\n",
    "            if table:\n",
    "                rows = table.find_all('tr')[2:]\n",
    "                print(f\"\\n{Fore.GREEN}[+] {Fore.YELLOW}Historical IP Address Info from {C}Viewdns{Y} for {Fore.GREEN}{self.domain}:{W}\")\n",
    "                for row in rows:\n",
    "                    self.ip_address_row_parser(row)\n",
    "            else:\n",
    "                print(f\"{Fore.RED}Error extracting Historical IP Address information from ViewDNS{Fore.RESET}\")\n",
    "        except Exception as e:\n",
    "            print(f\"{Fore.RED}Exception: {e}{Fore.RESET}\")\n",
    "\n",
    "    def run_scan(self):\n",
    "        self.get_domain_historical_ip_address()"
   ],
   "metadata": {
    "collapsed": false,
    "ExecuteTime": {
     "end_time": "2024-01-16T03:45:59.037439Z",
     "start_time": "2024-01-16T03:45:14.274062Z"
    }
   }
  },
  {
   "cell_type": "code",
   "execution_count": 12,
   "outputs": [
    {
     "name": "stdout",
     "output_type": "stream",
     "text": [
      "headers {'User-Agent': 'Mozilla/5.0 (Windows NT 6.1; WOW64) AppleWebKit/537.36 (KHTML, like Gecko) Chrome/42.0.0.9757 Safari/537.36', 'Accept': 'text/html,application/xhtml+xml,application/xml;q=0.9,image/avif,image/webp,image/apng,*/*;q=0.8,application/signed-exchange;v=b3;q=0.9'}\n",
      "url https://viewdns.info/iphistory/?domain=vc.ru\n",
      "\u001B[31mException: Access Forbidden. Check your credentials or permissions.\u001B[39m\n",
      "Cloudflare detected!\n",
      "\u001B[32m └➤ \u001B[36mTotal Subdomains Found:\u001B[0m 20\n",
      "\u001B[33m[+] \u001B[36mReal IP Address of \u001B[32mamp.vc.ru:\u001B[31m 104.21.40.127\n",
      "\u001B[31mError extracting SSL certificate information: [Errno 8] nodename nor servname provided, or not known\u001B[39m\n",
      "\u001B[33m[+] \u001B[36mReal IP Address of \u001B[32mapi.vc.ru:\u001B[31m 104.21.40.127\n",
      "\u001B[31m   [+] \u001B[36mSSL Certificate Information:\n",
      "\u001B[31m      └➤ \u001B[36mCommon Name:\u001B[0m vc.ru\n",
      "\u001B[31m      └➤ \u001B[36mIssuer:\u001B[0m GTS CA 1P5\n",
      "\u001B[31m      └➤ \u001B[36mValidity Start:\u001B[0m 2023-12-13 06:50:27\n",
      "\u001B[31m      └➤ \u001B[36mValidity End:\u001B[0m 2024-03-12 06:50:26\n",
      "\u001B[33m[+] \u001B[36mReal IP Address of \u001B[32mbudu.vc.ru:\u001B[31m 104.21.40.127\n",
      "\u001B[31mError extracting SSL certificate information: [Errno 8] nodename nor servname provided, or not known\u001B[39m\n",
      "\u001B[33m[+] \u001B[36mReal IP Address of \u001B[32mgo.vc.ru:\u001B[31m 104.21.40.127\n",
      "\u001B[31m   [+] \u001B[36mSSL Certificate Information:\n",
      "\u001B[31m      └➤ \u001B[36mCommon Name:\u001B[0m go.vc.ru\n",
      "\u001B[31m      └➤ \u001B[36mIssuer:\u001B[0m R3\n",
      "\u001B[31m      └➤ \u001B[36mValidity Start:\u001B[0m 2024-01-01 23:06:59\n",
      "\u001B[31m      └➤ \u001B[36mValidity End:\u001B[0m 2024-03-31 23:06:58\n",
      "\u001B[33m[+] \u001B[36mReal IP Address of \u001B[32mhostmaster@vc.ru:\u001B[31m 104.21.40.127\n",
      "\u001B[31mError extracting SSL certificate information: [Errno 8] nodename nor servname provided, or not known\u001B[39m\n",
      "\u001B[33m[+] \u001B[36mReal IP Address of \u001B[32mnode.vc.ru:\u001B[31m 104.21.40.127\n",
      "\u001B[31mError extracting SSL certificate information: [Errno 8] nodename nor servname provided, or not known\u001B[39m\n",
      "\u001B[33m[+] \u001B[36mReal IP Address of \u001B[32mpush.vc.ru:\u001B[31m 104.21.40.127\n",
      "\u001B[31mError extracting SSL certificate information: [Errno 8] nodename nor servname provided, or not known\u001B[39m\n",
      "\u001B[33m[+] \u001B[36mReal IP Address of \u001B[32ms.vc.ru:\u001B[31m 104.21.40.127\n",
      "\u001B[31mError extracting SSL certificate information: [Errno 8] nodename nor servname provided, or not known\u001B[39m\n",
      "\u001B[33m[+] \u001B[36mReal IP Address of \u001B[32msber-rss.vc.ru:\u001B[31m 104.21.40.127\n",
      "\u001B[31mError extracting SSL certificate information: [SSL: CERTIFICATE_VERIFY_FAILED] certificate verify failed: self signed certificate in certificate chain (_ssl.c:1129)\u001B[39m\n",
      "\u001B[33m[+] \u001B[36mReal IP Address of \u001B[32mt.vc.ru:\u001B[31m 104.21.40.127\n",
      "\u001B[31mError extracting SSL certificate information: [Errno 8] nodename nor servname provided, or not known\u001B[39m\n",
      "\u001B[33m[+] \u001B[36mReal IP Address of \u001B[32mtouchbank.vc.ru:\u001B[31m 104.21.40.127\n",
      "\u001B[31mError extracting SSL certificate information: [Errno 8] nodename nor servname provided, or not known\u001B[39m\n",
      "\u001B[33m[+] \u001B[36mReal IP Address of \u001B[32mvc.ru:\u001B[31m 104.21.40.127\n",
      "\u001B[31m   [+] \u001B[36mSSL Certificate Information:\n",
      "\u001B[31m      └➤ \u001B[36mCommon Name:\u001B[0m vc.ru\n",
      "\u001B[31m      └➤ \u001B[36mIssuer:\u001B[0m GTS CA 1P5\n",
      "\u001B[31m      └➤ \u001B[36mValidity Start:\u001B[0m 2023-12-13 06:50:27\n",
      "\u001B[31m      └➤ \u001B[36mValidity End:\u001B[0m 2024-03-12 06:50:26\n",
      "\u001B[33m[+] \u001B[36mReal IP Address of \u001B[32mws-backend-1.vc.ru:\u001B[31m 104.21.40.127\n",
      "\u001B[31mError extracting SSL certificate information: [Errno 8] nodename nor servname provided, or not known\u001B[39m\n",
      "\u001B[33m[+] \u001B[36mReal IP Address of \u001B[32mws-backend-2.vc.ru:\u001B[31m 104.21.40.127\n",
      "\u001B[31mError extracting SSL certificate information: [Errno 8] nodename nor servname provided, or not known\u001B[39m\n",
      "\u001B[33m[+] \u001B[36mReal IP Address of \u001B[32mws-backend-3.vc.ru:\u001B[31m 104.21.40.127\n",
      "\u001B[31mError extracting SSL certificate information: [Errno 8] nodename nor servname provided, or not known\u001B[39m\n",
      "\u001B[33m[+] \u001B[36mReal IP Address of \u001B[32mws-backend.vc.ru:\u001B[31m 104.21.40.127\n",
      "\u001B[31mError extracting SSL certificate information: [Errno 8] nodename nor servname provided, or not known\u001B[39m\n",
      "\u001B[33m[+] \u001B[36mReal IP Address of \u001B[32mws-sio.vc.ru:\u001B[31m 104.21.40.127\n"
     ]
    },
    {
     "ename": "KeyboardInterrupt",
     "evalue": "",
     "output_type": "error",
     "traceback": [
      "\u001B[0;31m---------------------------------------------------------------------------\u001B[0m",
      "\u001B[0;31mKeyboardInterrupt\u001B[0m                         Traceback (most recent call last)",
      "Cell \u001B[0;32mIn[12], line 2\u001B[0m\n\u001B[1;32m      1\u001B[0m terst \u001B[38;5;241m=\u001B[39m CloakQuestr(\u001B[38;5;124m'\u001B[39m\u001B[38;5;124mvc.ru\u001B[39m\u001B[38;5;124m'\u001B[39m)\n\u001B[0;32m----> 2\u001B[0m \u001B[43mterst\u001B[49m\u001B[38;5;241;43m.\u001B[39;49m\u001B[43mrun_scan\u001B[49m\u001B[43m(\u001B[49m\u001B[38;5;124;43m'\u001B[39;49m\u001B[38;5;124;43mvc.ru\u001B[39;49m\u001B[38;5;124;43m'\u001B[39;49m\u001B[43m)\u001B[49m\n",
      "File \u001B[0;32m~/PycharmProjects/CloakQuest3r/dev/classes/CloakQuestr.py:49\u001B[0m, in \u001B[0;36mCloakQuestr.run_scan\u001B[0;34m(self, as_df, as_csv)\u001B[0m\n\u001B[1;32m     47\u001B[0m \u001B[38;5;28;01mfor\u001B[39;00m domain \u001B[38;5;129;01min\u001B[39;00m \u001B[38;5;28mself\u001B[39m\u001B[38;5;241m.\u001B[39mdomains:\n\u001B[1;32m     48\u001B[0m     \u001B[38;5;28mself\u001B[39m\u001B[38;5;241m.\u001B[39mresult_dict[\u001B[38;5;124m'\u001B[39m\u001B[38;5;124mdns\u001B[39m\u001B[38;5;124m'\u001B[39m] \u001B[38;5;241m=\u001B[39m pd\u001B[38;5;241m.\u001B[39mconcat([\u001B[38;5;28mself\u001B[39m\u001B[38;5;241m.\u001B[39mresult_dict[\u001B[38;5;124m'\u001B[39m\u001B[38;5;124mdns\u001B[39m\u001B[38;5;124m'\u001B[39m], \u001B[38;5;28mself\u001B[39m\u001B[38;5;241m.\u001B[39mscan_dns(domain)], ignore_index\u001B[38;5;241m=\u001B[39m\u001B[38;5;28;01mTrue\u001B[39;00m)\n\u001B[0;32m---> 49\u001B[0m     \u001B[38;5;28mself\u001B[39m\u001B[38;5;241m.\u001B[39mresult_dict[\u001B[38;5;124m'\u001B[39m\u001B[38;5;124mdomains\u001B[39m\u001B[38;5;124m'\u001B[39m] \u001B[38;5;241m=\u001B[39m pd\u001B[38;5;241m.\u001B[39mconcat([\u001B[38;5;28mself\u001B[39m\u001B[38;5;241m.\u001B[39mresult_dict[\u001B[38;5;124m'\u001B[39m\u001B[38;5;124mdomains\u001B[39m\u001B[38;5;124m'\u001B[39m], \u001B[38;5;28;43mself\u001B[39;49m\u001B[38;5;241;43m.\u001B[39;49m\u001B[43mscan_subdomains\u001B[49m\u001B[43m(\u001B[49m\u001B[43mdomain\u001B[49m\u001B[43m)\u001B[49m], ignore_index\u001B[38;5;241m=\u001B[39m\u001B[38;5;28;01mTrue\u001B[39;00m)\n\u001B[1;32m     50\u001B[0m     \u001B[38;5;28mself\u001B[39m\u001B[38;5;241m.\u001B[39mresult_dict[\u001B[38;5;124m'\u001B[39m\u001B[38;5;124msecuritytrails\u001B[39m\u001B[38;5;124m'\u001B[39m] \u001B[38;5;241m=\u001B[39m pd\u001B[38;5;241m.\u001B[39mconcat([\u001B[38;5;28mself\u001B[39m\u001B[38;5;241m.\u001B[39mresult_dict[\u001B[38;5;124m'\u001B[39m\u001B[38;5;124msecuritytrails\u001B[39m\u001B[38;5;124m'\u001B[39m], \u001B[38;5;28mself\u001B[39m\u001B[38;5;241m.\u001B[39mscan_security_trails(domain)], ignore_index\u001B[38;5;241m=\u001B[39m\u001B[38;5;28;01mTrue\u001B[39;00m)\n\u001B[1;32m     51\u001B[0m \u001B[38;5;28;01mreturn\u001B[39;00m \u001B[38;5;28mself\u001B[39m\u001B[38;5;241m.\u001B[39mresult_dict\n",
      "File \u001B[0;32m~/PycharmProjects/CloakQuest3r/dev/classes/CloakQuestr.py:29\u001B[0m, in \u001B[0;36mCloakQuestr.scan_subdomains\u001B[0;34m(self, domain)\u001B[0m\n\u001B[1;32m     27\u001B[0m \u001B[38;5;28;01mdef\u001B[39;00m \u001B[38;5;21mscan_subdomains\u001B[39m(\u001B[38;5;28mself\u001B[39m, domain):\n\u001B[1;32m     28\u001B[0m     subdomain_scanner \u001B[38;5;241m=\u001B[39m SubDomainScanner(domain)\n\u001B[0;32m---> 29\u001B[0m     \u001B[43msubdomain_scanner\u001B[49m\u001B[38;5;241;43m.\u001B[39;49m\u001B[43mrun_scan\u001B[49m\u001B[43m(\u001B[49m\u001B[43m)\u001B[49m\n\u001B[1;32m     30\u001B[0m     df \u001B[38;5;241m=\u001B[39m pd\u001B[38;5;241m.\u001B[39mDataFrame(subdomain_scanner\u001B[38;5;241m.\u001B[39mdata)\n\u001B[1;32m     31\u001B[0m     df[\u001B[38;5;124m'\u001B[39m\u001B[38;5;124mdomain\u001B[39m\u001B[38;5;124m'\u001B[39m] \u001B[38;5;241m=\u001B[39m domain\n",
      "File \u001B[0;32m~/PycharmProjects/CloakQuest3r/dev/classes/SubDomainScanner.py:98\u001B[0m, in \u001B[0;36mSubDomainScanner.run_scan\u001B[0;34m(self)\u001B[0m\n\u001B[1;32m     95\u001B[0m \u001B[38;5;28mprint\u001B[39m(\u001B[38;5;124mf\u001B[39m\u001B[38;5;124m\"\u001B[39m\u001B[38;5;132;01m{\u001B[39;00mFore\u001B[38;5;241m.\u001B[39mYELLOW\u001B[38;5;132;01m}\u001B[39;00m\u001B[38;5;124m[+] \u001B[39m\u001B[38;5;132;01m{\u001B[39;00mFore\u001B[38;5;241m.\u001B[39mCYAN\u001B[38;5;132;01m}\u001B[39;00m\u001B[38;5;124mReal IP Address of \u001B[39m\u001B[38;5;132;01m{\u001B[39;00mFore\u001B[38;5;241m.\u001B[39mGREEN\u001B[38;5;132;01m}\u001B[39;00m\u001B[38;5;132;01m{\u001B[39;00msubdomain\u001B[38;5;132;01m}\u001B[39;00m\u001B[38;5;124m:\u001B[39m\u001B[38;5;132;01m{\u001B[39;00mFore\u001B[38;5;241m.\u001B[39mRED\u001B[38;5;132;01m}\u001B[39;00m\u001B[38;5;124m \u001B[39m\u001B[38;5;132;01m{\u001B[39;00mreal_ip\u001B[38;5;132;01m}\u001B[39;00m\u001B[38;5;124m\"\u001B[39m)\n\u001B[1;32m     97\u001B[0m \u001B[38;5;66;03m# Perform SSL Certificate Analysis\u001B[39;00m\n\u001B[0;32m---> 98\u001B[0m ssl_info \u001B[38;5;241m=\u001B[39m \u001B[38;5;28;43mself\u001B[39;49m\u001B[38;5;241;43m.\u001B[39;49m\u001B[43mget_ssl_certificate_info\u001B[49m\u001B[43m(\u001B[49m\u001B[43msubdomain\u001B[49m\u001B[43m)\u001B[49m\n\u001B[1;32m     99\u001B[0m \u001B[38;5;28;01mif\u001B[39;00m ssl_info:\n\u001B[1;32m    100\u001B[0m     \u001B[38;5;28mprint\u001B[39m(\u001B[38;5;124mf\u001B[39m\u001B[38;5;124m\"\u001B[39m\u001B[38;5;132;01m{\u001B[39;00mFore\u001B[38;5;241m.\u001B[39mRED\u001B[38;5;132;01m}\u001B[39;00m\u001B[38;5;124m   [+] \u001B[39m\u001B[38;5;132;01m{\u001B[39;00mFore\u001B[38;5;241m.\u001B[39mCYAN\u001B[38;5;132;01m}\u001B[39;00m\u001B[38;5;124mSSL Certificate Information:\u001B[39m\u001B[38;5;124m\"\u001B[39m)\n",
      "File \u001B[0;32m~/PycharmProjects/CloakQuest3r/venv/lib/python3.9/site-packages/timeout_decorator/timeout_decorator.py:82\u001B[0m, in \u001B[0;36mtimeout.<locals>.decorate.<locals>.new_function\u001B[0;34m(*args, **kwargs)\u001B[0m\n\u001B[1;32m     79\u001B[0m     \u001B[38;5;28;01mreturn\u001B[39;00m function(\u001B[38;5;241m*\u001B[39margs, \u001B[38;5;241m*\u001B[39m\u001B[38;5;241m*\u001B[39mkwargs)\n\u001B[1;32m     81\u001B[0m \u001B[38;5;28;01mtry\u001B[39;00m:\n\u001B[0;32m---> 82\u001B[0m     \u001B[38;5;28;01mreturn\u001B[39;00m \u001B[43mfunction\u001B[49m\u001B[43m(\u001B[49m\u001B[38;5;241;43m*\u001B[39;49m\u001B[43margs\u001B[49m\u001B[43m,\u001B[49m\u001B[43m \u001B[49m\u001B[38;5;241;43m*\u001B[39;49m\u001B[38;5;241;43m*\u001B[39;49m\u001B[43mkwargs\u001B[49m\u001B[43m)\u001B[49m\n\u001B[1;32m     83\u001B[0m \u001B[38;5;28;01mfinally\u001B[39;00m:\n\u001B[1;32m     84\u001B[0m     \u001B[38;5;28;01mif\u001B[39;00m new_seconds:\n",
      "File \u001B[0;32m~/PycharmProjects/CloakQuest3r/dev/classes/SubDomainScanner.py:64\u001B[0m, in \u001B[0;36mSubDomainScanner.get_ssl_certificate_info\u001B[0;34m(self, host)\u001B[0m\n\u001B[1;32m     62\u001B[0m context \u001B[38;5;241m=\u001B[39m ssl\u001B[38;5;241m.\u001B[39mcreate_default_context()\n\u001B[1;32m     63\u001B[0m \u001B[38;5;28;01mwith\u001B[39;00m context\u001B[38;5;241m.\u001B[39mwrap_socket(socket\u001B[38;5;241m.\u001B[39msocket(), server_hostname\u001B[38;5;241m=\u001B[39mhost) \u001B[38;5;28;01mas\u001B[39;00m sock:\n\u001B[0;32m---> 64\u001B[0m     \u001B[43msock\u001B[49m\u001B[38;5;241;43m.\u001B[39;49m\u001B[43mconnect\u001B[49m\u001B[43m(\u001B[49m\u001B[43m(\u001B[49m\u001B[43mhost\u001B[49m\u001B[43m,\u001B[49m\u001B[43m \u001B[49m\u001B[38;5;241;43m443\u001B[39;49m\u001B[43m)\u001B[49m\u001B[43m)\u001B[49m\n\u001B[1;32m     65\u001B[0m     certificate_der \u001B[38;5;241m=\u001B[39m sock\u001B[38;5;241m.\u001B[39mgetpeercert(\u001B[38;5;28;01mTrue\u001B[39;00m)\n\u001B[1;32m     67\u001B[0m certificate \u001B[38;5;241m=\u001B[39m x509\u001B[38;5;241m.\u001B[39mload_der_x509_certificate(certificate_der, default_backend())\n",
      "File \u001B[0;32m/Library/Developer/CommandLineTools/Library/Frameworks/Python3.framework/Versions/3.9/lib/python3.9/ssl.py:1342\u001B[0m, in \u001B[0;36mSSLSocket.connect\u001B[0;34m(self, addr)\u001B[0m\n\u001B[1;32m   1339\u001B[0m \u001B[38;5;28;01mdef\u001B[39;00m \u001B[38;5;21mconnect\u001B[39m(\u001B[38;5;28mself\u001B[39m, addr):\n\u001B[1;32m   1340\u001B[0m \u001B[38;5;250m    \u001B[39m\u001B[38;5;124;03m\"\"\"Connects to remote ADDR, and then wraps the connection in\u001B[39;00m\n\u001B[1;32m   1341\u001B[0m \u001B[38;5;124;03m    an SSL channel.\"\"\"\u001B[39;00m\n\u001B[0;32m-> 1342\u001B[0m     \u001B[38;5;28;43mself\u001B[39;49m\u001B[38;5;241;43m.\u001B[39;49m\u001B[43m_real_connect\u001B[49m\u001B[43m(\u001B[49m\u001B[43maddr\u001B[49m\u001B[43m,\u001B[49m\u001B[43m \u001B[49m\u001B[38;5;28;43;01mFalse\u001B[39;49;00m\u001B[43m)\u001B[49m\n",
      "File \u001B[0;32m/Library/Developer/CommandLineTools/Library/Frameworks/Python3.framework/Versions/3.9/lib/python3.9/ssl.py:1329\u001B[0m, in \u001B[0;36mSSLSocket._real_connect\u001B[0;34m(self, addr, connect_ex)\u001B[0m\n\u001B[1;32m   1327\u001B[0m \u001B[38;5;28;01melse\u001B[39;00m:\n\u001B[1;32m   1328\u001B[0m     rc \u001B[38;5;241m=\u001B[39m \u001B[38;5;28;01mNone\u001B[39;00m\n\u001B[0;32m-> 1329\u001B[0m     \u001B[38;5;28;43msuper\u001B[39;49m\u001B[43m(\u001B[49m\u001B[43m)\u001B[49m\u001B[38;5;241;43m.\u001B[39;49m\u001B[43mconnect\u001B[49m\u001B[43m(\u001B[49m\u001B[43maddr\u001B[49m\u001B[43m)\u001B[49m\n\u001B[1;32m   1330\u001B[0m \u001B[38;5;28;01mif\u001B[39;00m \u001B[38;5;129;01mnot\u001B[39;00m rc:\n\u001B[1;32m   1331\u001B[0m     \u001B[38;5;28mself\u001B[39m\u001B[38;5;241m.\u001B[39m_connected \u001B[38;5;241m=\u001B[39m \u001B[38;5;28;01mTrue\u001B[39;00m\n",
      "\u001B[0;31mKeyboardInterrupt\u001B[0m: "
     ]
    }
   ],
   "source": [
    "test = ViewDNSScanner('ntdtv.ru')\n",
    "test.run_scan()"
   ],
   "metadata": {
    "collapsed": false,
    "ExecuteTime": {
     "end_time": "2024-01-16T03:44:22.202095Z",
     "start_time": "2024-01-16T03:44:16.487045Z"
    }
   }
  },
  {
   "cell_type": "code",
   "execution_count": null,
   "outputs": [],
   "source": [
    "class CloakQuestr:\n",
    "    def __init__(self, domain):\n",
    "        self.domain = domain\n",
    "\n",
    "    def scan_headers(self):\n",
    "        header_scanner = HeaderScanner(self.domain)\n",
    "        webserver = header_scanner.run_scan()\n",
    "        print(webserver)\n",
    "\n",
    "    def scan_dns(self):\n",
    "        dns_scanner = ViewDNSScanner(self.domain)\n",
    "        dns_scanner.run_scan()"
   ],
   "metadata": {
    "collapsed": false,
    "ExecuteTime": {
     "start_time": "2024-01-16T03:26:17.802282Z"
    }
   }
  },
  {
   "cell_type": "code",
   "execution_count": 17,
   "outputs": [
    {
     "data": {
      "text/plain": "'Mozilla/5.0 (Windows NT 10.1; WOW64) AppleWebKit/537.36 (KHTML, like Gecko) Chrome/45.0.2454.101 Safari/537.36'"
     },
     "execution_count": 17,
     "metadata": {},
     "output_type": "execute_result"
    }
   ],
   "source": [
    "test = CloakQuestr('ntdtv.ru')\n",
    "test.scan_headers()\n",
    "test.scan_dns()"
   ],
   "metadata": {
    "collapsed": false,
    "ExecuteTime": {
     "end_time": "2024-01-16T03:11:06.570335Z",
     "start_time": "2024-01-16T03:11:06.559465Z"
    }
   }
  },
  {
   "cell_type": "code",
   "execution_count": 12,
   "outputs": [
    {
     "data": {
      "text/plain": "[{'user_agent': 'Mozilla/5.0 (Windows NT 6.2; Win64; x64) AppleWebKit/537.36 (KHTML, like Gecko) Chrome/57.0.2987.133 Safari/537.36',\n  'operating_system': 'windows',\n  'software_name': 'chrome',\n  'software_engine': 'Blink',\n  'software_type': 'browser -> web-browser',\n  'hardware_type': 'computer',\n  'popularity': 'very common'},\n {'user_agent': 'Mozilla/5.0 (Windows NT 6.1; WOW64) AppleWebKit/538 (KHTML, like Gecko) Chrome/36 Safari/538',\n  'operating_system': 'windows',\n  'software_name': 'chrome',\n  'software_engine': 'Blink',\n  'software_type': 'browser -> web-browser',\n  'hardware_type': 'computer',\n  'popularity': 'uncommon'},\n {'user_agent': 'Mozilla/5.0 (Windows NT 6.3; Win64; x64) AppleWebKit/537.36 (KHTML, like Gecko) Chrome/50.0.2638.0 Safari/537.36',\n  'operating_system': 'windows',\n  'software_name': 'chrome',\n  'software_engine': 'Blink',\n  'software_type': 'browser -> web-browser',\n  'hardware_type': 'computer',\n  'popularity': 'uncommon'},\n {'user_agent': 'Mozilla/5.0 (Windows NT 6.1; Win64; x64) AppleWebKit/537.36 (KHTML, like Gecko) Chrome/37.0.2018.0 Safari/537.36',\n  'operating_system': 'windows',\n  'software_name': 'chrome',\n  'software_engine': 'Blink',\n  'software_type': 'browser -> web-browser',\n  'hardware_type': 'computer',\n  'popularity': 'uncommon'},\n {'user_agent': 'Mozilla/5.0 (Windows NT 5.1) AppleWebKit/537.14 (KHTML, like Gecko) Chrome/46.0.2490.86 Safari/537.14',\n  'operating_system': 'windows',\n  'software_name': 'chrome',\n  'software_engine': 'Blink',\n  'software_type': 'browser -> web-browser',\n  'hardware_type': 'computer',\n  'popularity': 'uncommon'},\n {'user_agent': 'Mozilla/5.0 (Windows NT 6.1; WOW64) AppleWebKit/537.36 (KHTML, like Gecko) Chrome/42.0.0.9757 Safari/537.36',\n  'operating_system': 'windows',\n  'software_name': 'chrome',\n  'software_engine': 'Blink',\n  'software_type': 'browser -> web-browser',\n  'hardware_type': 'computer',\n  'popularity': 'uncommon'},\n {'user_agent': 'Mozilla/5.0 (Windows NT 6.3; WOW64) AppleWebKit/537.36 (KHTML, like Gecko) Chrome/49.0.2583.0 Safari/537.36',\n  'operating_system': 'windows',\n  'software_name': 'chrome',\n  'software_engine': 'Blink',\n  'software_type': 'browser -> web-browser',\n  'hardware_type': 'computer',\n  'popularity': 'uncommon'},\n {'user_agent': 'Mozilla/5.0 (Windows NT 6.1; WOW64) AppleWebKit/537.36 (KHTML, like Gecko) Chrome/40.0.2214.114 Safari/537.36',\n  'operating_system': 'windows',\n  'software_name': 'chrome',\n  'software_engine': 'Blink',\n  'software_type': 'browser -> web-browser',\n  'hardware_type': 'computer',\n  'popularity': 'uncommon'},\n {'user_agent': 'Mozilla/5.0 (X11; Linux x86_64) AppleWebKit/537.36 (KHTML, like Gecko) Chrome/28.0.1500.29 Safari/537.36',\n  'operating_system': 'linux',\n  'software_name': 'chrome',\n  'software_engine': 'Blink',\n  'software_type': 'browser -> web-browser',\n  'hardware_type': 'computer',\n  'popularity': 'uncommon'},\n {'user_agent': 'Mozilla/5.0 (Windows NT 8.0; WOW64) AppleWebKit/536.24 (KHTML, like Gecko) Chrome/32.0.2019.89 Safari/536.24',\n  'operating_system': 'windows',\n  'software_name': 'chrome',\n  'software_engine': 'Blink',\n  'software_type': 'browser -> web-browser',\n  'hardware_type': 'computer',\n  'popularity': 'uncommon'},\n {'user_agent': 'Mozilla/5.0 (Windows NT 6.3; Win64; x64) AppleWebKit/537.36 (KHTML, like Gecko) Chrome/32.0.1700.68 Safari/537.36',\n  'operating_system': 'windows',\n  'software_name': 'chrome',\n  'software_engine': 'Blink',\n  'software_type': 'browser -> web-browser',\n  'hardware_type': 'computer',\n  'popularity': 'uncommon'},\n {'user_agent': 'Mozilla/5.0 (Windows NT 6.0) AppleWebKit/537.36 (KHTML, like Gecko) Chrome/40.0.2214.111 Safari/537.36,gzip(gfe)',\n  'operating_system': 'windows',\n  'software_name': 'chrome',\n  'software_engine': 'Blink',\n  'software_type': 'browser -> web-browser',\n  'hardware_type': 'computer',\n  'popularity': 'uncommon'},\n {'user_agent': 'Mozilla/5.0 (Windows NT 6.0) AppleWebKit/537.36 (KHTML, like Gecko) Chrome/33.0.1750.29 Safari/537.36',\n  'operating_system': 'windows',\n  'software_name': 'chrome',\n  'software_engine': 'Blink',\n  'software_type': 'browser -> web-browser',\n  'hardware_type': 'computer',\n  'popularity': 'uncommon'},\n {'user_agent': 'Mozilla/5.0 (Windows NT 6.1; WOW64) AppleWebKit/537.36 (KHTML, like Gecko) Chrome/35.0.1916.150 Safari/537.36',\n  'operating_system': 'windows',\n  'software_name': 'chrome',\n  'software_engine': 'Blink',\n  'software_type': 'browser -> web-browser',\n  'hardware_type': 'computer',\n  'popularity': 'uncommon'},\n {'user_agent': 'Google Chrome 51.0.2704.103 on Windows 10',\n  'operating_system': 'windows',\n  'software_name': 'chrome',\n  'software_engine': 'Blink',\n  'software_type': 'browser -> web-browser',\n  'hardware_type': 'computer',\n  'popularity': 'uncommon'},\n {'user_agent': 'Mozilla/5.0 (X11; Linux x86_64) AppleWebKit/537.36 (KHTML, like Gecko; Google Web Preview) Chrome/27.0.1453 Safari/537.36,gzip(gfe)',\n  'operating_system': 'linux',\n  'software_name': 'chrome',\n  'software_engine': 'WebKit',\n  'software_type': 'browser -> web-browser',\n  'hardware_type': 'computer',\n  'popularity': 'uncommon'},\n {'user_agent': 'Mozilla/5.0 (Windows NT 6.1; Win64; x64) AppleWebKit/537.36 (KHTML, like Gecko) Chrome/39.0.2151.2 Safari/537.36',\n  'operating_system': 'windows',\n  'software_name': 'chrome',\n  'software_engine': 'Blink',\n  'software_type': 'browser -> web-browser',\n  'hardware_type': 'computer',\n  'popularity': 'uncommon'},\n {'user_agent': 'Mozilla/5.0 (Windows NT 6.1; WOW64) AppleWebKit/537.36 (KHTML, like Gecko) Chrome/56.0.2924.90 Safari/537.36 2345Explorer/9.4.3.17934',\n  'operating_system': 'windows',\n  'software_name': 'chrome',\n  'software_engine': 'Blink',\n  'software_type': 'browser -> web-browser',\n  'hardware_type': 'computer',\n  'popularity': 'uncommon'},\n {'user_agent': 'Mozilla/5.0 (Windows NT 6.1) AppleWebKit/537.36 (KHTML, like Gecko) coc_coc_browser/49.0 Chrome/43.0.2357.138 Safari/537.36',\n  'operating_system': 'windows',\n  'software_name': 'chrome',\n  'software_engine': 'Blink',\n  'software_type': 'browser -> web-browser',\n  'hardware_type': 'computer',\n  'popularity': 'uncommon'},\n {'user_agent': 'Mozilla/5.0 (Windows NT 6.2; WOW64) AppleWebKit/537.1 (KHTML, like Gecko) Chrome/21.0.1204.0 Safari/537.1',\n  'operating_system': 'windows',\n  'software_name': 'chrome',\n  'software_engine': 'WebKit',\n  'software_type': 'browser -> web-browser',\n  'hardware_type': 'computer',\n  'popularity': 'uncommon'},\n {'user_agent': 'Mozilla/5.0 (Windows; U; Windows NT 5.1; en-US) AppleWebKit/533.16 (KHTML, like Gecko) Chrome/5.0.335.0 Safari/533.16',\n  'operating_system': 'windows',\n  'software_name': 'chrome',\n  'software_engine': 'WebKit',\n  'software_type': 'browser -> web-browser',\n  'hardware_type': 'computer',\n  'popularity': 'uncommon'},\n {'user_agent': 'Mozilla/5.0 (X11; U; Linux x86_64; en-US) AppleWebKit/530.6 (KHTML, like Gecko) Chrome/2.0.174.0 Safari/530.6',\n  'operating_system': 'linux',\n  'software_name': 'chrome',\n  'software_engine': 'WebKit',\n  'software_type': 'browser -> web-browser',\n  'hardware_type': 'computer',\n  'popularity': 'uncommon'},\n {'user_agent': 'Mozilla/5.0 (Windows NT 6.1; WOW64) AppleWebKit/537.36 (KHTML, like Gecko) Chrome/32.0.1671.3 Safari/537.36',\n  'operating_system': 'windows',\n  'software_name': 'chrome',\n  'software_engine': 'Blink',\n  'software_type': 'browser -> web-browser',\n  'hardware_type': 'computer',\n  'popularity': 'uncommon'},\n {'user_agent': 'Mozilla/5.0 (X11; U; Linux i686; en-US) AppleWebKit/530.5 (KHTML, like Gecko) Chrome/2.0.172.0 Safari/530.5',\n  'operating_system': 'linux',\n  'software_name': 'chrome',\n  'software_engine': 'WebKit',\n  'software_type': 'browser -> web-browser',\n  'hardware_type': 'computer',\n  'popularity': 'uncommon'},\n {'user_agent': 'Mozilla/5.0 (Windows NT 5.1) AppleWebKit/537.36 (KHTML, like Gecko) Chrome/49.0.2623.87 Safari/537.36,gzip(gfe)',\n  'operating_system': 'windows',\n  'software_name': 'chrome',\n  'software_engine': 'Blink',\n  'software_type': 'browser -> web-browser',\n  'hardware_type': 'computer',\n  'popularity': 'uncommon'},\n {'user_agent': 'Mozilla/5.0 (Windows NT 10.0; WOW64) AppleWebKit/537.36 (KHTML, like Gecko) Chrome/6.0 Safari/537.36',\n  'operating_system': 'windows',\n  'software_name': 'chrome',\n  'software_engine': 'WebKit',\n  'software_type': 'browser -> web-browser',\n  'hardware_type': 'computer',\n  'popularity': 'uncommon'},\n {'user_agent': 'Mozilla/5.0 (Windows NT 6.1; WOW64) AppleWebKit/ (KHTML, like Gecko) Chrome/ Safari/',\n  'operating_system': 'windows',\n  'software_name': 'chrome',\n  'software_engine': '---',\n  'software_type': 'browser -> web-browser',\n  'hardware_type': 'computer',\n  'popularity': 'uncommon'},\n {'user_agent': 'Mozilla/5.0 (Windows NT 6.3; Win64; x64) AppleWebKit/537.36 (KHTML, like Gecko) Chrome/45.0.2419.0 Safari/537.36',\n  'operating_system': 'windows',\n  'software_name': 'chrome',\n  'software_engine': 'Blink',\n  'software_type': 'browser -> web-browser',\n  'hardware_type': 'computer',\n  'popularity': 'uncommon'},\n {'user_agent': 'Mozilla/5.0 (Windows NT 6.2; WOW64) AppleWebKit/537.36 (KHTML, like Gecko) Chrome/39.0.2171.95 Chrome/36.0.1985.125 CrossBrowser/36.0.1985.138 Safari/537.36',\n  'operating_system': 'windows',\n  'software_name': 'chrome',\n  'software_engine': 'Blink',\n  'software_type': 'browser -> web-browser',\n  'hardware_type': 'computer',\n  'popularity': 'uncommon'},\n {'user_agent': 'Mozilla/5.0 (X11; Linux x86_64) AppleWebKit/537.36 (KHTML, like Gecko) Chrome/41.0.2272.81 Safari/537.36',\n  'operating_system': 'linux',\n  'software_name': 'chrome',\n  'software_engine': 'Blink',\n  'software_type': 'browser -> web-browser',\n  'hardware_type': 'computer',\n  'popularity': 'uncommon'},\n {'user_agent': 'Mozilla/5.0 (X11; Linux x86_64; 6.1) AppleWebKit/537.31 (KHTML, like Gecko) Chrome/17.0.1410.63 Safari/537.31',\n  'operating_system': 'linux',\n  'software_name': 'chrome',\n  'software_engine': 'WebKit',\n  'software_type': 'browser -> web-browser',\n  'hardware_type': 'computer',\n  'popularity': 'uncommon'},\n {'user_agent': 'Mozilla/5.0 (Windows; U; Windows NT 5.2; en-US) AppleWebKit/532.0 (KHTML, like Gecko) Chrome/3.0.195.4 Safari/532.0',\n  'operating_system': 'windows',\n  'software_name': 'chrome',\n  'software_engine': 'WebKit',\n  'software_type': 'browser -> web-browser',\n  'hardware_type': 'computer',\n  'popularity': 'uncommon'},\n {'user_agent': 'Mozilla/5.0 (X11; Linux x86_64) AppleWebKit/537.36 (KHTML, like Gecko) Chrome/70.0.3538.12 Safari/537.36',\n  'operating_system': 'linux',\n  'software_name': 'chrome',\n  'software_engine': 'Blink',\n  'software_type': 'browser -> web-browser',\n  'hardware_type': 'computer',\n  'popularity': 'uncommon'},\n {'user_agent': 'Mozilla/5.0 (Windows NT 6.1; WOW64) AppleWebKit/537.36 (KHTML, like Gecko) Chrome/40.0.2214.111 Safari/537.36 TC2',\n  'operating_system': 'windows',\n  'software_name': 'chrome',\n  'software_engine': 'Blink',\n  'software_type': 'browser -> web-browser',\n  'hardware_type': 'computer',\n  'popularity': 'uncommon'},\n {'user_agent': 'Mozilla/5.0 (Windows NT 5.1) AppleWebKit/537.45 (KHTML, like Gecko) Chrome/46.0.2490.86 Safari/537.45',\n  'operating_system': 'windows',\n  'software_name': 'chrome',\n  'software_engine': 'Blink',\n  'software_type': 'browser -> web-browser',\n  'hardware_type': 'computer',\n  'popularity': 'uncommon'},\n {'user_agent': 'Mozilla/5.0 (X11; Linux i686) AppleWebKit/537.36 (KHTML, like Gecko) Chrome/59.0.3057.0 Safari/537.36',\n  'operating_system': 'linux',\n  'software_name': 'chrome',\n  'software_engine': 'Blink',\n  'software_type': 'browser -> web-browser',\n  'hardware_type': 'computer',\n  'popularity': 'uncommon'},\n {'user_agent': 'Mozilla/5.0 (Windows NT 10.1; WOW64) AppleWebKit/537.36 (KHTML, like Gecko) Chrome/45.0.2454.101 Safari/537.36',\n  'operating_system': 'windows',\n  'software_name': 'chrome',\n  'software_engine': 'Blink',\n  'software_type': 'browser -> web-browser',\n  'hardware_type': 'computer',\n  'popularity': 'uncommon'},\n {'user_agent': '\"Mozilla/5.0 (X11; U; Linux i686 (x86_64); en-US) AppleWebKit/534.12 (KHTML, like Gecko) Chrome/9.0.576.0 Safari/534.12\"',\n  'operating_system': 'linux',\n  'software_name': 'chrome',\n  'software_engine': 'WebKit',\n  'software_type': 'browser -> web-browser',\n  'hardware_type': 'computer',\n  'popularity': 'uncommon'},\n {'user_agent': 'Mozilla/5.0 (Windows NT 10.0; WOW64) AppleWebKit/537.36 (KHTML, like Gecko) Chrome/58.0.3029.97 Safari/537.36 Viv/1.9.818.49,gzip(gfe)',\n  'operating_system': 'windows',\n  'software_name': 'chrome',\n  'software_engine': 'Blink',\n  'software_type': 'browser -> web-browser',\n  'hardware_type': 'computer',\n  'popularity': 'uncommon'},\n {'user_agent': 'Mozilla/5.0 (Windows NT 6.1) AppleWebKit/537.36 (KHTML, like Gecko) Chrome/51.0.2673.0 Safari/537.36',\n  'operating_system': 'windows',\n  'software_name': 'chrome',\n  'software_engine': 'Blink',\n  'software_type': 'browser -> web-browser',\n  'hardware_type': 'computer',\n  'popularity': 'uncommon'},\n {'user_agent': 'Mozilla/5.0 (Windows NT 6.1) AppleWebKit/537.36 (KHTML, like Gecko) Chrome/62.0.3202.104 Safari/537.36',\n  'operating_system': 'windows',\n  'software_name': 'chrome',\n  'software_engine': 'Blink',\n  'software_type': 'browser -> web-browser',\n  'hardware_type': 'computer',\n  'popularity': 'uncommon'},\n {'user_agent': 'Mozilla/5.0 (Windows NT 6.1; Win64; x64) AppleWebKit/536.36 (KHTML, like Gecko) Chrome/67.2.3.4 Safari/536.36',\n  'operating_system': 'windows',\n  'software_name': 'chrome',\n  'software_engine': 'Blink',\n  'software_type': 'browser -> web-browser',\n  'hardware_type': 'computer',\n  'popularity': 'uncommon'},\n {'user_agent': 'Mozilla/5.0 (Windows NT 6.2; WOW64) AppleWebKit/537.36 (KHTML, like Gecko) Chrome/44.0.2403.61 Safari/537.36',\n  'operating_system': 'windows',\n  'software_name': 'chrome',\n  'software_engine': 'Blink',\n  'software_type': 'browser -> web-browser',\n  'hardware_type': 'computer',\n  'popularity': 'uncommon'},\n {'user_agent': 'Mozilla/5.0 (Windows NT 10.0; Win64; x64) AppleWebKit/537.36 (KHTML, like Gecko) Chrome/64.0.3258.0 Safari/537.36',\n  'operating_system': 'windows',\n  'software_name': 'chrome',\n  'software_engine': 'Blink',\n  'software_type': 'browser -> web-browser',\n  'hardware_type': 'computer',\n  'popularity': 'uncommon'},\n {'user_agent': 'Mozilla/5.0 (X11; Linux x86_64; Deepin 15.5) AppleWebKit/537.36 (KHTML, like Gecko) Chrome/55.0.2883.75 Safari/537.36 NFSBrowser/5.0.0.1886',\n  'operating_system': 'linux',\n  'software_name': 'chrome',\n  'software_engine': 'Blink',\n  'software_type': 'browser -> web-browser',\n  'hardware_type': 'computer',\n  'popularity': 'uncommon'},\n {'user_agent': 'Mozilla/5.0 (Windows NT 5.2; WOW64) AppleWebKit/537.36 (KHTML, like Gecko) Chrome/29.0.1547.41 Safari/537.36',\n  'operating_system': 'windows',\n  'software_name': 'chrome',\n  'software_engine': 'Blink',\n  'software_type': 'browser -> web-browser',\n  'hardware_type': 'computer',\n  'popularity': 'uncommon'},\n {'user_agent': 'Mozilla/5.0 (X11; Linux x86_64) AppleWebKit/537.36 (KHTML, like Gecko) HeadlessChrome/67.0.3387.0 Safari/537.36',\n  'operating_system': 'linux',\n  'software_name': 'chrome',\n  'software_engine': 'Blink',\n  'software_type': 'browser -> web-browser',\n  'hardware_type': 'computer',\n  'popularity': 'uncommon'},\n {'user_agent': 'Mozilla/5.0 (Windows NT 6.4; WOW64) AppleWebKit/537.36 (KHTML, like Gecko) Chrome/41.0.2272.89 Safari/537.36',\n  'operating_system': 'windows',\n  'software_name': 'chrome',\n  'software_engine': 'Blink',\n  'software_type': 'browser -> web-browser',\n  'hardware_type': 'computer',\n  'popularity': 'uncommon'},\n {'user_agent': 'Mozilla/5.0 (Windows NT 8.0; WOW64) AppleWebKit/536.23.38 (KHTML, like Gecko) Chrome/57.0.2740.20 Safari/536.23.38',\n  'operating_system': 'windows',\n  'software_name': 'chrome',\n  'software_engine': 'Blink',\n  'software_type': 'browser -> web-browser',\n  'hardware_type': 'computer',\n  'popularity': 'uncommon'},\n {'user_agent': 'Mozilla/5.0 (Windows NT 10.0; Win64; x64) AppleWebKit/537.36 (KHTML, like Gecko) Chrome/43.0.2357 Safari/537.36',\n  'operating_system': 'windows',\n  'software_name': 'chrome',\n  'software_engine': 'Blink',\n  'software_type': 'browser -> web-browser',\n  'hardware_type': 'computer',\n  'popularity': 'uncommon'},\n {'user_agent': 'Mozilla/5.0 (X11; Linux x86_64) AppleWebKit/537.36 (KHTML, like Gecko) Chrome/53.0.2785.101 Safari/537.36 Mozilla/5.0 (Windows NT 6.1; WOW64) AppleWebKit/537.36 (KHTML, like Gecko) Chrome/45.0.2454.101 Safari/537.36',\n  'operating_system': 'windows',\n  'software_name': 'chrome',\n  'software_engine': 'Blink',\n  'software_type': 'browser -> web-browser',\n  'hardware_type': 'computer',\n  'popularity': 'uncommon'},\n {'user_agent': 'Mozilla/5.0 (Windows NT 6.3; WOW64) AppleWebKit/537.36 (KHTML, like Gecko) Chrome/55.0.2851.0 Safari/537.36',\n  'operating_system': 'windows',\n  'software_name': 'chrome',\n  'software_engine': 'Blink',\n  'software_type': 'browser -> web-browser',\n  'hardware_type': 'computer',\n  'popularity': 'uncommon'},\n {'user_agent': 'Mozilla/5.0 (Windows NT 10.0; WOW64) AppleWebKit/537.36 (KHTML, like Gecko) Chrome/72.0.3608.0 Safari/537.36',\n  'operating_system': 'windows',\n  'software_name': 'chrome',\n  'software_engine': 'Blink',\n  'software_type': 'browser -> web-browser',\n  'hardware_type': 'computer',\n  'popularity': 'uncommon'},\n {'user_agent': 'Mozilla/5.0 (Windows NT 6.0; Win64; x64) AppleWebKit/536.14 (KHTML, like Gecko) Chrome/32.0.2008.86 Safari/536.14',\n  'operating_system': 'windows',\n  'software_name': 'chrome',\n  'software_engine': 'Blink',\n  'software_type': 'browser -> web-browser',\n  'hardware_type': 'computer',\n  'popularity': 'uncommon'},\n {'user_agent': 'Mozilla/5.0 (Windows NT 6.0; Win64; x64) AppleWebKit/537.36 (KHTML, like Gecko) Chrome/39.0.2171.99 Safari/537.36',\n  'operating_system': 'windows',\n  'software_name': 'chrome',\n  'software_engine': 'Blink',\n  'software_type': 'browser -> web-browser',\n  'hardware_type': 'computer',\n  'popularity': 'uncommon'},\n {'user_agent': 'Mozilla/5.0 (Windows NT 6.2) AppleWebKit/537.35 (KHTML, like Gecko) Chrome/27.0.1453.0 Safari/537.35',\n  'operating_system': 'windows',\n  'software_name': 'chrome',\n  'software_engine': 'WebKit',\n  'software_type': 'browser -> web-browser',\n  'hardware_type': 'computer',\n  'popularity': 'uncommon'},\n {'user_agent': 'Mozilla/5.0 (Windows NT 10.0; WOW64) AppleWebKit/537.36 (KHTML, like Gecko) UR/61.1.3163.34 Chrome/63.0.3239.108  Safari/537.36',\n  'operating_system': 'windows',\n  'software_name': 'chrome',\n  'software_engine': 'Blink',\n  'software_type': 'browser -> web-browser',\n  'hardware_type': 'computer',\n  'popularity': 'uncommon'},\n {'user_agent': 'Mozilla/5.0 (X11; Linux x86_64) AppleWebKit/537.36 (KHTML, like Gecko) Chrome/41.0.2264.0 Safari/537.36',\n  'operating_system': 'linux',\n  'software_name': 'chrome',\n  'software_engine': 'Blink',\n  'software_type': 'browser -> web-browser',\n  'hardware_type': 'computer',\n  'popularity': 'uncommon'},\n {'user_agent': 'Mozilla/5.0 (Windows NT 6.1; Win64; x64) AppleWebKit/537.36 (KHTML, like Gecko) Chrome/59.0.3058.0 Safari/537.36',\n  'operating_system': 'windows',\n  'software_name': 'chrome',\n  'software_engine': 'Blink',\n  'software_type': 'browser -> web-browser',\n  'hardware_type': 'computer',\n  'popularity': 'uncommon'},\n {'user_agent': 'Mozilla/5.0 (X11; Ubuntu 16.04; Linux Kernel 3.2.0-88.126) AppleWebKit/537.36 (KHTML, like Gecko) Chrome/60.0',\n  'operating_system': 'linux',\n  'software_name': 'chrome',\n  'software_engine': 'Blink',\n  'software_type': 'browser -> web-browser',\n  'hardware_type': 'computer',\n  'popularity': 'uncommon'},\n {'user_agent': 'Mozilla/5.0 (Windows NT 6.1; WOW64) AppleWebKit/537.36 (KHTML, like Gecko) Chrome/31.0.1615.0 Safari/537.36',\n  'operating_system': 'windows',\n  'software_name': 'chrome',\n  'software_engine': 'Blink',\n  'software_type': 'browser -> web-browser',\n  'hardware_type': 'computer',\n  'popularity': 'uncommon'},\n {'user_agent': 'Mozilla/5.0 (Windows NT 5.2) AppleWebKit/537.36 (KHTML, like Gecko) Chrome/31.0.1650.57 Safari/537.36',\n  'operating_system': 'windows',\n  'software_name': 'chrome',\n  'software_engine': 'Blink',\n  'software_type': 'browser -> web-browser',\n  'hardware_type': 'computer',\n  'popularity': 'uncommon'},\n {'user_agent': 'Mozilla/5.0 (Windows NT 6.2) AppleWebKit/537.36 (KHTML, like Gecko) coc_coc_browser/54.2.133 Chrome/48.2.2564.133 Safari/537.36',\n  'operating_system': 'windows',\n  'software_name': 'chrome',\n  'software_engine': 'Blink',\n  'software_type': 'browser -> web-browser',\n  'hardware_type': 'computer',\n  'popularity': 'uncommon'},\n {'user_agent': 'Mozilla/5.0 (X11; Fedora; Linux i686) AppleWebKit/537.36 (KHTML, like Gecko) Chrome/60.0.3112.113 Safari/537.36',\n  'operating_system': 'linux',\n  'software_name': 'chrome',\n  'software_engine': 'Blink',\n  'software_type': 'browser -> web-browser',\n  'hardware_type': 'computer',\n  'popularity': 'uncommon'},\n {'user_agent': 'Mozilla/5.0 (X11; Linux x86_64) AppleWebKit/537.36 (KHTML, like Gecko) Chrome/58.0.3029.145 Safari/537.36 EdgA/41.0.0.1267',\n  'operating_system': 'linux',\n  'software_name': 'chrome',\n  'software_engine': 'Blink',\n  'software_type': 'browser -> web-browser',\n  'hardware_type': 'computer',\n  'popularity': 'uncommon'},\n {'user_agent': 'Mozilla/5.0 (X11; Linux x86_64) AppleWebKit/537.36 (KHTML, like Gecko) Chrome/51.0.2700.0 Safari/537.36#',\n  'operating_system': 'linux',\n  'software_name': 'chrome',\n  'software_engine': 'Blink',\n  'software_type': 'browser -> web-browser',\n  'hardware_type': 'computer',\n  'popularity': 'uncommon'},\n {'user_agent': 'Mozilla/5.0 (Windows NT 10.0; WOW64) AppleWebKit/537.36 (KHTML, like Gecko) Chrome/49.0.2568.0 Safari/537.36',\n  'operating_system': 'windows',\n  'software_name': 'chrome',\n  'software_engine': 'Blink',\n  'software_type': 'browser -> web-browser',\n  'hardware_type': 'computer',\n  'popularity': 'uncommon'},\n {'user_agent': 'Mozilla/5.0 (Windows NT 6.3; WOW64) AppleWebKit/537.36 (KHTML, like Gecko) Chrome/64.0.3251.0 Safari/537.36',\n  'operating_system': 'windows',\n  'software_name': 'chrome',\n  'software_engine': 'Blink',\n  'software_type': 'browser -> web-browser',\n  'hardware_type': 'computer',\n  'popularity': 'uncommon'},\n {'user_agent': 'Mozilla/5.0 (Windows NT 8.1) AppleWebKit/537.27.34 (KHTML, like Gecko) Chrome/54.0.2725.19 Safari/537.27.34',\n  'operating_system': 'windows',\n  'software_name': 'chrome',\n  'software_engine': 'Blink',\n  'software_type': 'browser -> web-browser',\n  'hardware_type': 'computer',\n  'popularity': 'uncommon'},\n {'user_agent': 'Mozilla/5.0 (X11; U; Linux x86_64; en-US) AppleWebKit/533.3 (KHTML, like Gecko) Chrome/5.0.354.0 Safari/533.3',\n  'operating_system': 'linux',\n  'software_name': 'chrome',\n  'software_engine': 'WebKit',\n  'software_type': 'browser -> web-browser',\n  'hardware_type': 'computer',\n  'popularity': 'uncommon'},\n {'user_agent': 'Mozilla/5.0 (X11; Linux x86_64) AppleWebKit/537.36 (KHTML, like Gecko) Chrome/63.0.3239.111 Safari/537.36 EdgA/41.0.0.1662',\n  'operating_system': 'linux',\n  'software_name': 'chrome',\n  'software_engine': 'Blink',\n  'software_type': 'browser -> web-browser',\n  'hardware_type': 'computer',\n  'popularity': 'uncommon'},\n {'user_agent': 'Mozilla/5.0 (Windows NT 6.1; Win64; x64) AppleWebKit/537.36 (KHTML, like Gecko) Chrome/60.0.3112.101 Safari/537.36,gzip(gfe)',\n  'operating_system': 'windows',\n  'software_name': 'chrome',\n  'software_engine': 'Blink',\n  'software_type': 'browser -> web-browser',\n  'hardware_type': 'computer',\n  'popularity': 'uncommon'},\n {'user_agent': 'Mozilla/5.0 (Windows; U; Windows 95) AppleWebKit/535.1 (KHTML, like Gecko) Chrome/13.0.782.43 Safari/535.1',\n  'operating_system': 'windows',\n  'software_name': 'chrome',\n  'software_engine': 'WebKit',\n  'software_type': 'browser -> web-browser',\n  'hardware_type': 'computer',\n  'popularity': 'uncommon'},\n {'user_agent': 'Mozilla/5.0 (Windows NT 6.1) AppleWebKit/537.36 (KHTML, like Gecko) Chrome/70.0.3538.102 Safari/537.36 Avast/70.0.917.102',\n  'operating_system': 'windows',\n  'software_name': 'chrome',\n  'software_engine': 'Blink',\n  'software_type': 'browser -> web-browser',\n  'hardware_type': 'computer',\n  'popularity': 'uncommon'},\n {'user_agent': 'Mozilla/5.0 (Windows NT 6.1; WOW64) AppleWebKit/537.1 (KHTML, like Gecko) Chrome/46.0.1180.75 Safari/537.1',\n  'operating_system': 'windows',\n  'software_name': 'chrome',\n  'software_engine': 'Blink',\n  'software_type': 'browser -> web-browser',\n  'hardware_type': 'computer',\n  'popularity': 'uncommon'},\n {'user_agent': 'Mozilla/5.0 (Windows NT 6.3; WOW64) AppleWebKit/537.36 (KHTML, like Gecko) Chrome/63.0.3282.92 Safari/537.36',\n  'operating_system': 'windows',\n  'software_name': 'chrome',\n  'software_engine': 'Blink',\n  'software_type': 'browser -> web-browser',\n  'hardware_type': 'computer',\n  'popularity': 'uncommon'},\n {'user_agent': 'Mozilla/5.0 (Windows NT 5.1) AppleWebKit/535.1 (KHTML, like Gecko) Chrome/14.0.835.18 Safari/535.1',\n  'operating_system': 'windows',\n  'software_name': 'chrome',\n  'software_engine': 'WebKit',\n  'software_type': 'browser -> web-browser',\n  'hardware_type': 'computer',\n  'popularity': 'uncommon'},\n {'user_agent': 'Mozilla/5.0 (X11; Linux x86_64) AppleWebKit/537.36 (KHTML, like Gecko) Chrome/40.0.2214.45 Safari/537.36',\n  'operating_system': 'linux',\n  'software_name': 'chrome',\n  'software_engine': 'Blink',\n  'software_type': 'browser -> web-browser',\n  'hardware_type': 'computer',\n  'popularity': 'uncommon'},\n {'user_agent': 'Mozilla/5.0 (X11; U; Linux i686; en-US) AppleWebKit/534.21 (KHTML, like Gecko) Chrome/11.0.678.0 Safari/534.21',\n  'operating_system': 'linux',\n  'software_name': 'chrome',\n  'software_engine': 'WebKit',\n  'software_type': 'browser -> web-browser',\n  'hardware_type': 'computer',\n  'popularity': 'uncommon'},\n {'user_agent': 'Mozilla/5.0 (Windows NT 8.1; WOW64) AppleWebKit/537.34 (KHTML, like Gecko) Chrome/36.0.2039.82 Safari/537.34',\n  'operating_system': 'windows',\n  'software_name': 'chrome',\n  'software_engine': 'Blink',\n  'software_type': 'browser -> web-browser',\n  'hardware_type': 'computer',\n  'popularity': 'uncommon'},\n {'user_agent': 'Mozilla/5.0 (Windows NT 6.2;en-US) AppleWebKit/537.32.36 (KHTML, live Gecko) Chrome/56.0.3075.83 Safari/537.32',\n  'operating_system': 'windows',\n  'software_name': 'chrome',\n  'software_engine': 'Blink',\n  'software_type': 'browser -> web-browser',\n  'hardware_type': 'computer',\n  'popularity': 'uncommon'},\n {'user_agent': 'Mozilla/5.0 (Windows NT 10.0) AppleWebKit/537.36 (KHTML, like Gecko) Chrome/59.0.3071.16 Safari/537.36',\n  'operating_system': 'windows',\n  'software_name': 'chrome',\n  'software_engine': 'Blink',\n  'software_type': 'browser -> web-browser',\n  'hardware_type': 'computer',\n  'popularity': 'uncommon'},\n {'user_agent': 'Mozilla/5.0 (Windows NT 7.1; en-US) AppleWebKit/535.12 (KHTML, like Gecko) Chrome/28.0.1410.43 Safari/535.12',\n  'operating_system': 'windows',\n  'software_name': 'chrome',\n  'software_engine': 'Blink',\n  'software_type': 'browser -> web-browser',\n  'hardware_type': 'computer',\n  'popularity': 'uncommon'},\n {'user_agent': 'Mozilla/5.0 (Windows NT 10.0; Win64; x64) AppleWebKit/537.36 (KHTML, like Gecko) Chrome/48.0.2531.0 Safari/537.36',\n  'operating_system': 'windows',\n  'software_name': 'chrome',\n  'software_engine': 'Blink',\n  'software_type': 'browser -> web-browser',\n  'hardware_type': 'computer',\n  'popularity': 'uncommon'},\n {'user_agent': 'Mozilla/5.0 (Windows NT 6.1; WOW64) AppleWebKit/537.36 (KHTML, like Gecko) Chrome/67.0.3396.775 Safari/537.36',\n  'operating_system': 'windows',\n  'software_name': 'chrome',\n  'software_engine': 'Blink',\n  'software_type': 'browser -> web-browser',\n  'hardware_type': 'computer',\n  'popularity': 'uncommon'},\n {'user_agent': 'Mozilla/5.0 (Windows NT 6.0; WOW64) AppleWebKit/537.36 (KHTML, like Gecko) Chrome/42.0.2311.152 Safari/537.36',\n  'operating_system': 'windows',\n  'software_name': 'chrome',\n  'software_engine': 'Blink',\n  'software_type': 'browser -> web-browser',\n  'hardware_type': 'computer',\n  'popularity': 'uncommon'},\n {'user_agent': 'Mozilla/5.0 (Windows NT 5.1) AppleWebKit/537.36 (KHTML, like Gecko) Chrome/29.0.1547.18 Safari/537.36',\n  'operating_system': 'windows',\n  'software_name': 'chrome',\n  'software_engine': 'Blink',\n  'software_type': 'browser -> web-browser',\n  'hardware_type': 'computer',\n  'popularity': 'uncommon'},\n {'user_agent': 'Mozilla/5.0 (X11; Ubuntu; Linux i686) AppleWebKit/537.36 (KHTML, like Gecko) Chrome/34.0.1864.6 Safari/537.36',\n  'operating_system': 'linux',\n  'software_name': 'chrome',\n  'software_engine': 'Blink',\n  'software_type': 'browser -> web-browser',\n  'hardware_type': 'computer',\n  'popularity': 'uncommon'},\n {'user_agent': 'Mozilla/5.0 (Windows; U; Windows NT 5.1; en-US) AppleWebKit/533.3 (KHTML, like Gecko) Chrome/5.0.355.0 Safari/533.3',\n  'operating_system': 'windows',\n  'software_name': 'chrome',\n  'software_engine': 'WebKit',\n  'software_type': 'browser -> web-browser',\n  'hardware_type': 'computer',\n  'popularity': 'uncommon'},\n {'user_agent': 'Mozilla/5.0 (X11; Linux i686) AppleWebKit/537.36 (KHTML, like Gecko) Chrome/49.0.2599.0 Safari/537.36',\n  'operating_system': 'linux',\n  'software_name': 'chrome',\n  'software_engine': 'Blink',\n  'software_type': 'browser -> web-browser',\n  'hardware_type': 'computer',\n  'popularity': 'uncommon'},\n {'user_agent': 'Mozilla/5.0 (Windows NT 6.1; Win64; x64) AppleWebKit/537.36 (KHTML, like Gecko) Chrome/63.0.3239.139 Safari/537.36',\n  'operating_system': 'windows',\n  'software_name': 'chrome',\n  'software_engine': 'Blink',\n  'software_type': 'browser -> web-browser',\n  'hardware_type': 'computer',\n  'popularity': 'uncommon'},\n {'user_agent': 'Mozilla/5.0 (Windows NT 6.1; WOW64) AppleWebKit/537.36 (KHTML, like Gecko) Chrome/31.0.1650.69 Safari/537.36',\n  'operating_system': 'windows',\n  'software_name': 'chrome',\n  'software_engine': 'Blink',\n  'software_type': 'browser -> web-browser',\n  'hardware_type': 'computer',\n  'popularity': 'uncommon'},\n {'user_agent': 'Mozilla/5.0 (Windows NT 6.3; WOW64) AppleWebKit/537.1 (KHTML, like Gecko) Chrome/38.0.2125.101 Safari/537.1',\n  'operating_system': 'windows',\n  'software_name': 'chrome',\n  'software_engine': 'Blink',\n  'software_type': 'browser -> web-browser',\n  'hardware_type': 'computer',\n  'popularity': 'uncommon'},\n {'user_agent': 'Mozilla/5.0 (Windows NT 6.3; WOW64) AppleWebKit/537.36 (KHTML, like Gecko) Chrome/52.0.2714.0 Safari/537.36',\n  'operating_system': 'windows',\n  'software_name': 'chrome',\n  'software_engine': 'Blink',\n  'software_type': 'browser -> web-browser',\n  'hardware_type': 'computer',\n  'popularity': 'uncommon'},\n {'user_agent': 'Mozilla/5.0 (Windows NT 7.0; Win64; x64) AppleWebKit/535.15 (KHTML, like Gecko) Chrome/53.0.2710.66 Safari/535.15',\n  'operating_system': 'windows',\n  'software_name': 'chrome',\n  'software_engine': 'Blink',\n  'software_type': 'browser -> web-browser',\n  'hardware_type': 'computer',\n  'popularity': 'uncommon'},\n {'user_agent': 'Mozilla/5.0 (Windows NT 10.0; Win64; x64) AppleWebKit/537.36 (KHTML, like Gecko) Chrome/56.0.2883.95 Safari/537.36',\n  'operating_system': 'windows',\n  'software_name': 'chrome',\n  'software_engine': 'Blink',\n  'software_type': 'browser -> web-browser',\n  'hardware_type': 'computer',\n  'popularity': 'uncommon'},\n {'user_agent': '24.0.1284.0.0 (Windows NT 5.1) AppleWebKit/534.0 (KHTML, like Gecko) Chrome/24.0.1284.0.3.742.3 Safari/534.3',\n  'operating_system': 'windows',\n  'software_name': 'chrome',\n  'software_engine': 'WebKit',\n  'software_type': 'browser -> web-browser',\n  'hardware_type': 'computer',\n  'popularity': 'uncommon'},\n {'user_agent': 'Mozilla/5.0 (Windows NT 10.0; Win64; x64) AppleWebKit/537.36 (KHTML, like Gecko) Chrome/64.0.3359.181 Safari/537.36',\n  'operating_system': 'windows',\n  'software_name': 'chrome',\n  'software_engine': 'Blink',\n  'software_type': 'browser -> web-browser',\n  'hardware_type': 'computer',\n  'popularity': 'uncommon'},\n {'user_agent': 'Mozilla/5.0 (Windows NT 10.0; WOW64) AppleWebKit/537.36 (KHTML, like Gecko) Chrome/61.0.3163.102 Safari/537.36',\n  'operating_system': 'windows',\n  'software_name': 'chrome',\n  'software_engine': 'Blink',\n  'software_type': 'browser -> web-browser',\n  'hardware_type': 'computer',\n  'popularity': 'uncommon'},\n {'user_agent': 'Mozilla/5.0 (Windows NT 6.3; Win64; x64) AppleWebKit/537.36 (KHTML, like Gecko) Chrome/45.0.2427.7 Safari/537.36',\n  'operating_system': 'windows',\n  'software_name': 'chrome',\n  'software_engine': 'Blink',\n  'software_type': 'browser -> web-browser',\n  'hardware_type': 'computer',\n  'popularity': 'uncommon'}]"
     },
     "execution_count": 12,
     "metadata": {},
     "output_type": "execute_result"
    }
   ],
   "source": [
    "test = SubDomainScanner('ntdtv.ru')\n",
    "test.run_scan()"
   ],
   "metadata": {
    "collapsed": false,
    "ExecuteTime": {
     "end_time": "2024-01-16T03:10:26.601087Z",
     "start_time": "2024-01-16T03:10:26.577729Z"
    }
   }
  },
  {
   "cell_type": "code",
   "execution_count": 1,
   "outputs": [
    {
     "ename": "NameError",
     "evalue": "name 'result_dict' is not defined",
     "output_type": "error",
     "traceback": [
      "\u001B[0;31m---------------------------------------------------------------------------\u001B[0m",
      "\u001B[0;31mNameError\u001B[0m                                 Traceback (most recent call last)",
      "Cell \u001B[0;32mIn[1], line 1\u001B[0m\n\u001B[0;32m----> 1\u001B[0m \u001B[43mresult_dict\u001B[49m[\u001B[38;5;124m'\u001B[39m\u001B[38;5;124msecuritytrails\u001B[39m\u001B[38;5;124m'\u001B[39m]\n",
      "\u001B[0;31mNameError\u001B[0m: name 'result_dict' is not defined"
     ]
    }
   ],
   "source": [],
   "metadata": {
    "collapsed": false,
    "ExecuteTime": {
     "end_time": "2024-01-16T03:36:35.364178Z",
     "start_time": "2024-01-16T03:36:35.218487Z"
    }
   }
  }
 ],
 "metadata": {
  "kernelspec": {
   "display_name": "Python 3",
   "language": "python",
   "name": "python3"
  },
  "language_info": {
   "codemirror_mode": {
    "name": "ipython",
    "version": 2
   },
   "file_extension": ".py",
   "mimetype": "text/x-python",
   "name": "python",
   "nbconvert_exporter": "python",
   "pygments_lexer": "ipython2",
   "version": "2.7.6"
  }
 },
 "nbformat": 4,
 "nbformat_minor": 0
}
